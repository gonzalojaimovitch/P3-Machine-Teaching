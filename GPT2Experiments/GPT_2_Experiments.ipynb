{
  "nbformat": 4,
  "nbformat_minor": 0,
  "metadata": {
    "colab": {
      "name": "GPT-2_Experiments.ipynb",
      "provenance": [],
      "collapsed_sections": [],
      "include_colab_link": true
    },
    "kernelspec": {
      "name": "python3",
      "display_name": "Python 3"
    }
  },
  "cells": [
    {
      "cell_type": "markdown",
      "metadata": {
        "id": "view-in-github",
        "colab_type": "text"
      },
      "source": [
        "<a href=\"https://colab.research.google.com/github/gonzalojaimovitch/P3-Machine-Teaching/blob/master/GPT_2_Experiments.ipynb\" target=\"_parent\"><img src=\"https://colab.research.google.com/assets/colab-badge.svg\" alt=\"Open In Colab\"/></a>"
      ]
    },
    {
      "cell_type": "code",
      "metadata": {
        "id": "G93gVWsGATDi",
        "colab_type": "code",
        "colab": {
          "base_uri": "https://localhost:8080/",
          "height": 136
        },
        "outputId": "eb5ced97-f2b9-42e5-fcdf-a9c74c5739d9"
      },
      "source": [
        "#Import the GitHub repository with the required files\n",
        "!git clone https://github.com/gonzalojaimovitch/P3-Machine-Teaching"
      ],
      "execution_count": null,
      "outputs": [
        {
          "output_type": "stream",
          "text": [
            "Cloning into 'P3-Machine-Teaching'...\n",
            "remote: Enumerating objects: 114, done.\u001b[K\n",
            "remote: Counting objects:   0% (1/114)\u001b[K\rremote: Counting objects:   1% (2/114)\u001b[K\rremote: Counting objects:   2% (3/114)\u001b[K\rremote: Counting objects:   3% (4/114)\u001b[K\rremote: Counting objects:   4% (5/114)\u001b[K\rremote: Counting objects:   5% (6/114)\u001b[K\rremote: Counting objects:   6% (7/114)\u001b[K\rremote: Counting objects:   7% (8/114)\u001b[K\rremote: Counting objects:   8% (10/114)\u001b[K\rremote: Counting objects:   9% (11/114)\u001b[K\rremote: Counting objects:  10% (12/114)\u001b[K\rremote: Counting objects:  11% (13/114)\u001b[K\rremote: Counting objects:  12% (14/114)\u001b[K\rremote: Counting objects:  13% (15/114)\u001b[K\rremote: Counting objects:  14% (16/114)\u001b[K\rremote: Counting objects:  15% (18/114)\u001b[K\rremote: Counting objects:  16% (19/114)\u001b[K\rremote: Counting objects:  17% (20/114)\u001b[K\rremote: Counting objects:  18% (21/114)\u001b[K\rremote: Counting objects:  19% (22/114)\u001b[K\rremote: Counting objects:  20% (23/114)\u001b[K\rremote: Counting objects:  21% (24/114)\u001b[K\rremote: Counting objects:  22% (26/114)\u001b[K\rremote: Counting objects:  23% (27/114)\u001b[K\rremote: Counting objects:  24% (28/114)\u001b[K\rremote: Counting objects:  25% (29/114)\u001b[K\rremote: Counting objects:  26% (30/114)\u001b[K\rremote: Counting objects:  27% (31/114)\u001b[K\rremote: Counting objects:  28% (32/114)\u001b[K\rremote: Counting objects:  29% (34/114)\u001b[K\rremote: Counting objects:  30% (35/114)\u001b[K\rremote: Counting objects:  31% (36/114)\u001b[K\rremote: Counting objects:  32% (37/114)\u001b[K\rremote: Counting objects:  33% (38/114)\u001b[K\rremote: Counting objects:  34% (39/114)\u001b[K\rremote: Counting objects:  35% (40/114)\u001b[K\rremote: Counting objects:  36% (42/114)\u001b[K\rremote: Counting objects:  37% (43/114)\u001b[K\rremote: Counting objects:  38% (44/114)\u001b[K\rremote: Counting objects:  39% (45/114)\u001b[K\rremote: Counting objects:  40% (46/114)\u001b[K\rremote: Counting objects:  41% (47/114)\u001b[K\rremote: Counting objects:  42% (48/114)\u001b[K\rremote: Counting objects:  43% (50/114)\u001b[K\rremote: Counting objects:  44% (51/114)\u001b[K\rremote: Counting objects:  45% (52/114)\u001b[K\rremote: Counting objects:  46% (53/114)\u001b[K\rremote: Counting objects:  47% (54/114)\u001b[K\rremote: Counting objects:  48% (55/114)\u001b[K\rremote: Counting objects:  49% (56/114)\u001b[K\rremote: Counting objects:  50% (57/114)\u001b[K\rremote: Counting objects:  51% (59/114)\u001b[K\rremote: Counting objects:  52% (60/114)\u001b[K\rremote: Counting objects:  53% (61/114)\u001b[K\rremote: Counting objects:  54% (62/114)\u001b[K\rremote: Counting objects:  55% (63/114)\u001b[K\rremote: Counting objects:  56% (64/114)\u001b[K\rremote: Counting objects:  57% (65/114)\u001b[K\rremote: Counting objects:  58% (67/114)\u001b[K\rremote: Counting objects:  59% (68/114)\u001b[K\rremote: Counting objects:  60% (69/114)\u001b[K\rremote: Counting objects:  61% (70/114)\u001b[K\rremote: Counting objects:  62% (71/114)\u001b[K\rremote: Counting objects:  63% (72/114)\u001b[K\rremote: Counting objects:  64% (73/114)\u001b[K\rremote: Counting objects:  65% (75/114)\u001b[K\rremote: Counting objects:  66% (76/114)\u001b[K\rremote: Counting objects:  67% (77/114)\u001b[K\rremote: Counting objects:  68% (78/114)\u001b[K\rremote: Counting objects:  69% (79/114)\u001b[K\rremote: Counting objects:  70% (80/114)\u001b[K\rremote: Counting objects:  71% (81/114)\u001b[K\rremote: Counting objects:  72% (83/114)\u001b[K\rremote: Counting objects:  73% (84/114)\u001b[K\rremote: Counting objects:  74% (85/114)\u001b[K\rremote: Counting objects:  75% (86/114)\u001b[K\rremote: Counting objects:  76% (87/114)\u001b[K\rremote: Counting objects:  77% (88/114)\u001b[K\rremote: Counting objects:  78% (89/114)\u001b[K\rremote: Counting objects:  79% (91/114)\u001b[K\rremote: Counting objects:  80% (92/114)\u001b[K\rremote: Counting objects:  81% (93/114)\u001b[K\rremote: Counting objects:  82% (94/114)\u001b[K\rremote: Counting objects:  83% (95/114)\u001b[K\rremote: Counting objects:  84% (96/114)\u001b[K\rremote: Counting objects:  85% (97/114)\u001b[K\rremote: Counting objects:  86% (99/114)\u001b[K\rremote: Counting objects:  87% (100/114)\u001b[K\rremote: Counting objects:  88% (101/114)\u001b[K\rremote: Counting objects:  89% (102/114)\u001b[K\rremote: Counting objects:  90% (103/114)\u001b[K\rremote: Counting objects:  91% (104/114)\u001b[K\rremote: Counting objects:  92% (105/114)\u001b[K\rremote: Counting objects:  93% (107/114)\u001b[K\rremote: Counting objects:  94% (108/114)\u001b[K\rremote: Counting objects:  95% (109/114)\u001b[K\rremote: Counting objects:  96% (110/114)\u001b[K\rremote: Counting objects:  97% (111/114)\u001b[K\rremote: Counting objects:  98% (112/114)\u001b[K\rremote: Counting objects:  99% (113/114)\u001b[K\rremote: Counting objects: 100% (114/114)\u001b[K\rremote: Counting objects: 100% (114/114), done.\u001b[K\n",
            "remote: Compressing objects:   1% (1/95)\u001b[K\rremote: Compressing objects:   2% (2/95)\u001b[K\rremote: Compressing objects:   3% (3/95)\u001b[K\rremote: Compressing objects:   4% (4/95)\u001b[K\rremote: Compressing objects:   5% (5/95)\u001b[K\rremote: Compressing objects:   6% (6/95)\u001b[K\rremote: Compressing objects:   7% (7/95)\u001b[K\rremote: Compressing objects:   8% (8/95)\u001b[K\rremote: Compressing objects:   9% (9/95)\u001b[K\rremote: Compressing objects:  10% (10/95)\u001b[K\rremote: Compressing objects:  11% (11/95)\u001b[K\rremote: Compressing objects:  12% (12/95)\u001b[K\rremote: Compressing objects:  13% (13/95)\u001b[K\rremote: Compressing objects:  14% (14/95)\u001b[K\rremote: Compressing objects:  15% (15/95)\u001b[K\rremote: Compressing objects:  16% (16/95)\u001b[K\rremote: Compressing objects:  17% (17/95)\u001b[K\rremote: Compressing objects:  18% (18/95)\u001b[K\rremote: Compressing objects:  20% (19/95)\u001b[K\rremote: Compressing objects:  21% (20/95)\u001b[K\rremote: Compressing objects:  22% (21/95)\u001b[K\rremote: Compressing objects:  23% (22/95)\u001b[K\rremote: Compressing objects:  24% (23/95)\u001b[K\rremote: Compressing objects:  25% (24/95)\u001b[K\rremote: Compressing objects:  26% (25/95)\u001b[K\rremote: Compressing objects:  27% (26/95)\u001b[K\rremote: Compressing objects:  28% (27/95)\u001b[K\rremote: Compressing objects:  29% (28/95)\u001b[K\rremote: Compressing objects:  30% (29/95)\u001b[K\rremote: Compressing objects:  31% (30/95)\u001b[K\rremote: Compressing objects:  32% (31/95)\u001b[K\rremote: Compressing objects:  33% (32/95)\u001b[K\rremote: Compressing objects:  34% (33/95)\u001b[K\rremote: Compressing objects:  35% (34/95)\u001b[K\rremote: Compressing objects:  36% (35/95)\u001b[K\rremote: Compressing objects:  37% (36/95)\u001b[K\rremote: Compressing objects:  38% (37/95)\u001b[K\rremote: Compressing objects:  40% (38/95)\u001b[K\rremote: Compressing objects:  41% (39/95)\u001b[K\rremote: Compressing objects:  42% (40/95)\u001b[K\rremote: Compressing objects:  43% (41/95)\u001b[K\rremote: Compressing objects:  44% (42/95)\u001b[K\rremote: Compressing objects:  45% (43/95)\u001b[K\rremote: Compressing objects:  46% (44/95)\u001b[K\rremote: Compressing objects:  47% (45/95)\u001b[K\rremote: Compressing objects:  48% (46/95)\u001b[K\rremote: Compressing objects:  49% (47/95)\u001b[K\rremote: Compressing objects:  50% (48/95)\u001b[K\rremote: Compressing objects:  51% (49/95)\u001b[K\rremote: Compressing objects:  52% (50/95)\u001b[K\rremote: Compressing objects:  53% (51/95)\u001b[K\rremote: Compressing objects:  54% (52/95)\u001b[K\rremote: Compressing objects:  55% (53/95)\u001b[K\rremote: Compressing objects:  56% (54/95)\u001b[K\rremote: Compressing objects:  57% (55/95)\u001b[K\rremote: Compressing objects:  58% (56/95)\u001b[K\rremote: Compressing objects:  60% (57/95)\u001b[K\rremote: Compressing objects:  61% (58/95)\u001b[K\rremote: Compressing objects:  62% (59/95)\u001b[K\rremote: Compressing objects:  63% (60/95)\u001b[K\rremote: Compressing objects:  64% (61/95)\u001b[K\rremote: Compressing objects:  65% (62/95)\u001b[K\rremote: Compressing objects:  66% (63/95)\u001b[K\rremote: Compressing objects:  67% (64/95)\u001b[K\rremote: Compressing objects:  68% (65/95)\u001b[K\rremote: Compressing objects:  69% (66/95)\u001b[K\rremote: Compressing objects:  70% (67/95)\u001b[K\rremote: Compressing objects:  71% (68/95)\u001b[K\rremote: Compressing objects:  72% (69/95)\u001b[K\rremote: Compressing objects:  73% (70/95)\u001b[K\rremote: Compressing objects:  74% (71/95)\u001b[K\rremote: Compressing objects:  75% (72/95)\u001b[K\rremote: Compressing objects:  76% (73/95)\u001b[K\rremote: Compressing objects:  77% (74/95)\u001b[K\rremote: Compressing objects:  78% (75/95)\u001b[K\rremote: Compressing objects:  80% (76/95)\u001b[K\rremote: Compressing objects:  81% (77/95)\u001b[K\rremote: Compressing objects:  82% (78/95)\u001b[K\rremote: Compressing objects:  83% (79/95)\u001b[K\rremote: Compressing objects:  84% (80/95)\u001b[K\rremote: Compressing objects:  85% (81/95)\u001b[K\rremote: Compressing objects:  86% (82/95)\u001b[K\rremote: Compressing objects:  87% (83/95)\u001b[K\rremote: Compressing objects:  88% (84/95)\u001b[K\rremote: Compressing objects:  89% (85/95)\u001b[K\rremote: Compressing objects:  90% (86/95)\u001b[K\rremote: Compressing objects:  91% (87/95)\u001b[K\rremote: Compressing objects:  92% (88/95)\u001b[K\rremote: Compressing objects:  93% (89/95)\u001b[K\rremote: Compressing objects:  94% (90/95)\u001b[K\rremote: Compressing objects:  95% (91/95)\u001b[K\rremote: Compressing objects:  96% (92/95)\u001b[K\rremote: Compressing objects:  97% (93/95)\u001b[K\rremote: Compressing objects:  98% (94/95)\u001b[K\rremote: Compressing objects: 100% (95/95)\u001b[K\rremote: Compressing objects: 100% (95/95), done.\u001b[K\n",
            "Receiving objects:   0% (1/114)   \rReceiving objects:   1% (2/114)   \rReceiving objects:   2% (3/114)   \rReceiving objects:   3% (4/114)   \rReceiving objects:   4% (5/114)   \rReceiving objects:   5% (6/114)   \rReceiving objects:   6% (7/114)   \rReceiving objects:   7% (8/114)   \rReceiving objects:   8% (10/114)   \rReceiving objects:   9% (11/114)   \rReceiving objects:  10% (12/114)   \rReceiving objects:  11% (13/114)   \rReceiving objects:  12% (14/114)   \rReceiving objects:  13% (15/114)   \rReceiving objects:  14% (16/114)   \rReceiving objects:  15% (18/114)   \rReceiving objects:  16% (19/114)   \rReceiving objects:  17% (20/114)   \rReceiving objects:  18% (21/114)   \rReceiving objects:  19% (22/114)   \rReceiving objects:  20% (23/114)   \rReceiving objects:  21% (24/114)   \rReceiving objects:  22% (26/114)   \rReceiving objects:  23% (27/114)   \rReceiving objects:  24% (28/114)   \rReceiving objects:  25% (29/114)   \rReceiving objects:  26% (30/114)   \rReceiving objects:  27% (31/114)   \rReceiving objects:  28% (32/114)   \rReceiving objects:  29% (34/114)   \rReceiving objects:  30% (35/114)   \rReceiving objects:  31% (36/114)   \rReceiving objects:  32% (37/114)   \rReceiving objects:  33% (38/114)   \rReceiving objects:  34% (39/114)   \rReceiving objects:  35% (40/114)   \rReceiving objects:  36% (42/114)   \rReceiving objects:  37% (43/114)   \rReceiving objects:  38% (44/114)   \rReceiving objects:  39% (45/114)   \rReceiving objects:  40% (46/114)   \rReceiving objects:  41% (47/114)   \rReceiving objects:  42% (48/114)   \rReceiving objects:  43% (50/114)   \rReceiving objects:  44% (51/114)   \rReceiving objects:  45% (52/114)   \rReceiving objects:  46% (53/114)   \rReceiving objects:  47% (54/114)   \rReceiving objects:  48% (55/114)   \rReceiving objects:  49% (56/114)   \rReceiving objects:  50% (57/114)   \rReceiving objects:  51% (59/114)   \rReceiving objects:  52% (60/114)   \rReceiving objects:  53% (61/114)   \rReceiving objects:  54% (62/114)   \rReceiving objects:  55% (63/114)   \rReceiving objects:  56% (64/114)   \rReceiving objects:  57% (65/114)   \rReceiving objects:  58% (67/114)   \rReceiving objects:  59% (68/114)   \rReceiving objects:  60% (69/114)   \rReceiving objects:  61% (70/114)   \rReceiving objects:  62% (71/114)   \rReceiving objects:  63% (72/114)   \rremote: Total 114 (delta 31), reused 80 (delta 14), pack-reused 0\u001b[K\n",
            "Receiving objects:  64% (73/114)   \rReceiving objects:  65% (75/114)   \rReceiving objects:  66% (76/114)   \rReceiving objects:  67% (77/114)   \rReceiving objects:  68% (78/114)   \rReceiving objects:  69% (79/114)   \rReceiving objects:  70% (80/114)   \rReceiving objects:  71% (81/114)   \rReceiving objects:  72% (83/114)   \rReceiving objects:  73% (84/114)   \rReceiving objects:  74% (85/114)   \rReceiving objects:  75% (86/114)   \rReceiving objects:  76% (87/114)   \rReceiving objects:  77% (88/114)   \rReceiving objects:  78% (89/114)   \rReceiving objects:  79% (91/114)   \rReceiving objects:  80% (92/114)   \rReceiving objects:  81% (93/114)   \rReceiving objects:  82% (94/114)   \rReceiving objects:  83% (95/114)   \rReceiving objects:  84% (96/114)   \rReceiving objects:  85% (97/114)   \rReceiving objects:  86% (99/114)   \rReceiving objects:  87% (100/114)   \rReceiving objects:  88% (101/114)   \rReceiving objects:  89% (102/114)   \rReceiving objects:  90% (103/114)   \rReceiving objects:  91% (104/114)   \rReceiving objects:  92% (105/114)   \rReceiving objects:  93% (107/114)   \rReceiving objects:  94% (108/114)   \rReceiving objects:  95% (109/114)   \rReceiving objects:  96% (110/114)   \rReceiving objects:  97% (111/114)   \rReceiving objects:  98% (112/114)   \rReceiving objects:  99% (113/114)   \rReceiving objects: 100% (114/114)   \rReceiving objects: 100% (114/114), 934.03 KiB | 5.53 MiB/s, done.\n",
            "Resolving deltas:   0% (0/31)   \rResolving deltas:   9% (3/31)   \rResolving deltas:  16% (5/31)   \rResolving deltas:  22% (7/31)   \rResolving deltas:  29% (9/31)   \rResolving deltas:  67% (21/31)   \rResolving deltas:  70% (22/31)   \rResolving deltas:  74% (23/31)   \rResolving deltas:  77% (24/31)   \rResolving deltas:  87% (27/31)   \rResolving deltas:  90% (28/31)   \rResolving deltas:  93% (29/31)   \rResolving deltas: 100% (31/31)   \rResolving deltas: 100% (31/31), done.\n"
          ],
          "name": "stdout"
        }
      ]
    },
    {
      "cell_type": "code",
      "metadata": {
        "id": "n5HkUJHaF9xy",
        "colab_type": "code",
        "colab": {
          "base_uri": "https://localhost:8080/",
          "height": 921
        },
        "outputId": "0f0ec583-8587-45be-b3e8-5a48fb7704c3"
      },
      "source": [
        "!pip3 install tensorflow==1.15.0"
      ],
      "execution_count": null,
      "outputs": [
        {
          "output_type": "stream",
          "text": [
            "Collecting tensorflow==1.15.0\n",
            "\u001b[?25l  Downloading https://files.pythonhosted.org/packages/3f/98/5a99af92fb911d7a88a0005ad55005f35b4c1ba8d75fba02df726cd936e6/tensorflow-1.15.0-cp36-cp36m-manylinux2010_x86_64.whl (412.3MB)\n",
            "\u001b[K     |████████████████████████████████| 412.3MB 27kB/s \n",
            "\u001b[?25hRequirement already satisfied: opt-einsum>=2.3.2 in /usr/local/lib/python3.6/dist-packages (from tensorflow==1.15.0) (3.3.0)\n",
            "Collecting tensorboard<1.16.0,>=1.15.0\n",
            "\u001b[?25l  Downloading https://files.pythonhosted.org/packages/1e/e9/d3d747a97f7188f48aa5eda486907f3b345cd409f0a0850468ba867db246/tensorboard-1.15.0-py3-none-any.whl (3.8MB)\n",
            "\u001b[K     |████████████████████████████████| 3.8MB 29.1MB/s \n",
            "\u001b[?25hRequirement already satisfied: astor>=0.6.0 in /usr/local/lib/python3.6/dist-packages (from tensorflow==1.15.0) (0.8.1)\n",
            "Requirement already satisfied: termcolor>=1.1.0 in /usr/local/lib/python3.6/dist-packages (from tensorflow==1.15.0) (1.1.0)\n",
            "Requirement already satisfied: grpcio>=1.8.6 in /usr/local/lib/python3.6/dist-packages (from tensorflow==1.15.0) (1.30.0)\n",
            "Requirement already satisfied: wrapt>=1.11.1 in /usr/local/lib/python3.6/dist-packages (from tensorflow==1.15.0) (1.12.1)\n",
            "Requirement already satisfied: wheel>=0.26 in /usr/local/lib/python3.6/dist-packages (from tensorflow==1.15.0) (0.34.2)\n",
            "Collecting gast==0.2.2\n",
            "  Downloading https://files.pythonhosted.org/packages/4e/35/11749bf99b2d4e3cceb4d55ca22590b0d7c2c62b9de38ac4a4a7f4687421/gast-0.2.2.tar.gz\n",
            "Requirement already satisfied: keras-preprocessing>=1.0.5 in /usr/local/lib/python3.6/dist-packages (from tensorflow==1.15.0) (1.1.2)\n",
            "Requirement already satisfied: google-pasta>=0.1.6 in /usr/local/lib/python3.6/dist-packages (from tensorflow==1.15.0) (0.2.0)\n",
            "Requirement already satisfied: absl-py>=0.7.0 in /usr/local/lib/python3.6/dist-packages (from tensorflow==1.15.0) (0.9.0)\n",
            "Requirement already satisfied: numpy<2.0,>=1.16.0 in /usr/local/lib/python3.6/dist-packages (from tensorflow==1.15.0) (1.18.5)\n",
            "Requirement already satisfied: six>=1.10.0 in /usr/local/lib/python3.6/dist-packages (from tensorflow==1.15.0) (1.15.0)\n",
            "Requirement already satisfied: protobuf>=3.6.1 in /usr/local/lib/python3.6/dist-packages (from tensorflow==1.15.0) (3.12.4)\n",
            "Collecting keras-applications>=1.0.8\n",
            "\u001b[?25l  Downloading https://files.pythonhosted.org/packages/71/e3/19762fdfc62877ae9102edf6342d71b28fbfd9dea3d2f96a882ce099b03f/Keras_Applications-1.0.8-py3-none-any.whl (50kB)\n",
            "\u001b[K     |████████████████████████████████| 51kB 6.7MB/s \n",
            "\u001b[?25hCollecting tensorflow-estimator==1.15.1\n",
            "\u001b[?25l  Downloading https://files.pythonhosted.org/packages/de/62/2ee9cd74c9fa2fa450877847ba560b260f5d0fb70ee0595203082dafcc9d/tensorflow_estimator-1.15.1-py2.py3-none-any.whl (503kB)\n",
            "\u001b[K     |████████████████████████████████| 512kB 33.2MB/s \n",
            "\u001b[?25hRequirement already satisfied: werkzeug>=0.11.15 in /usr/local/lib/python3.6/dist-packages (from tensorboard<1.16.0,>=1.15.0->tensorflow==1.15.0) (1.0.1)\n",
            "Requirement already satisfied: markdown>=2.6.8 in /usr/local/lib/python3.6/dist-packages (from tensorboard<1.16.0,>=1.15.0->tensorflow==1.15.0) (3.2.2)\n",
            "Requirement already satisfied: setuptools>=41.0.0 in /usr/local/lib/python3.6/dist-packages (from tensorboard<1.16.0,>=1.15.0->tensorflow==1.15.0) (49.2.0)\n",
            "Requirement already satisfied: h5py in /usr/local/lib/python3.6/dist-packages (from keras-applications>=1.0.8->tensorflow==1.15.0) (2.10.0)\n",
            "Requirement already satisfied: importlib-metadata; python_version < \"3.8\" in /usr/local/lib/python3.6/dist-packages (from markdown>=2.6.8->tensorboard<1.16.0,>=1.15.0->tensorflow==1.15.0) (1.7.0)\n",
            "Requirement already satisfied: zipp>=0.5 in /usr/local/lib/python3.6/dist-packages (from importlib-metadata; python_version < \"3.8\"->markdown>=2.6.8->tensorboard<1.16.0,>=1.15.0->tensorflow==1.15.0) (3.1.0)\n",
            "Building wheels for collected packages: gast\n",
            "  Building wheel for gast (setup.py) ... \u001b[?25l\u001b[?25hdone\n",
            "  Created wheel for gast: filename=gast-0.2.2-cp36-none-any.whl size=7540 sha256=d057f3d2f540422a0ba7d8ecbe29785430385a3eb8708fded1e791c1a37ced11\n",
            "  Stored in directory: /root/.cache/pip/wheels/5c/2e/7e/a1d4d4fcebe6c381f378ce7743a3ced3699feb89bcfbdadadd\n",
            "Successfully built gast\n",
            "\u001b[31mERROR: tensorflow-probability 0.11.0 has requirement gast>=0.3.2, but you'll have gast 0.2.2 which is incompatible.\u001b[0m\n",
            "Installing collected packages: tensorboard, gast, keras-applications, tensorflow-estimator, tensorflow\n",
            "  Found existing installation: tensorboard 2.3.0\n",
            "    Uninstalling tensorboard-2.3.0:\n",
            "      Successfully uninstalled tensorboard-2.3.0\n",
            "  Found existing installation: gast 0.3.3\n",
            "    Uninstalling gast-0.3.3:\n",
            "      Successfully uninstalled gast-0.3.3\n",
            "  Found existing installation: tensorflow-estimator 2.3.0\n",
            "    Uninstalling tensorflow-estimator-2.3.0:\n",
            "      Successfully uninstalled tensorflow-estimator-2.3.0\n",
            "  Found existing installation: tensorflow 2.3.0\n",
            "    Uninstalling tensorflow-2.3.0:\n",
            "      Successfully uninstalled tensorflow-2.3.0\n",
            "Successfully installed gast-0.2.2 keras-applications-1.0.8 tensorboard-1.15.0 tensorflow-1.15.0 tensorflow-estimator-1.15.1\n"
          ],
          "name": "stdout"
        }
      ]
    },
    {
      "cell_type": "code",
      "metadata": {
        "id": "nSM3D78BGvgb",
        "colab_type": "code",
        "colab": {
          "base_uri": "https://localhost:8080/",
          "height": 939
        },
        "outputId": "d3446bd5-115e-4b76-f97a-10d3fdc39899"
      },
      "source": [
        "%cd P3-Machine-Teaching\n",
        "%cd GPT2Experiments\n",
        "%cd gpt-2\n",
        "!pip3 install -r requirements.txt"
      ],
      "execution_count": null,
      "outputs": [
        {
          "output_type": "stream",
          "text": [
            "/content/P3-Machine-Teaching\n",
            "/content/P3-Machine-Teaching/GPT2Experiments\n",
            "/content/P3-Machine-Teaching/GPT2Experiments/gpt-2\n",
            "Collecting fire>=0.1.3\n",
            "\u001b[?25l  Downloading https://files.pythonhosted.org/packages/34/a7/0e22e70778aca01a52b9c899d9c145c6396d7b613719cd63db97ffa13f2f/fire-0.3.1.tar.gz (81kB)\n",
            "\u001b[K     |████████████████████████████████| 81kB 2.2MB/s \n",
            "\u001b[?25hCollecting regex==2017.4.5\n",
            "\u001b[?25l  Downloading https://files.pythonhosted.org/packages/36/62/c0c0d762ffd4ffaf39f372eb8561b8d491a11ace5a7884610424a8b40f95/regex-2017.04.05.tar.gz (601kB)\n",
            "\u001b[K     |████████████████████████████████| 604kB 7.8MB/s \n",
            "\u001b[?25hCollecting requests==2.21.0\n",
            "\u001b[?25l  Downloading https://files.pythonhosted.org/packages/7d/e3/20f3d364d6c8e5d2353c72a67778eb189176f08e873c9900e10c0287b84b/requests-2.21.0-py2.py3-none-any.whl (57kB)\n",
            "\u001b[K     |████████████████████████████████| 61kB 5.7MB/s \n",
            "\u001b[?25hCollecting tqdm==4.31.1\n",
            "\u001b[?25l  Downloading https://files.pythonhosted.org/packages/6c/4b/c38b5144cf167c4f52288517436ccafefe9dc01b8d1c190e18a6b154cd4a/tqdm-4.31.1-py2.py3-none-any.whl (48kB)\n",
            "\u001b[K     |████████████████████████████████| 51kB 4.9MB/s \n",
            "\u001b[?25hRequirement already satisfied: six in /usr/local/lib/python3.6/dist-packages (from fire>=0.1.3->-r requirements.txt (line 1)) (1.15.0)\n",
            "Requirement already satisfied: termcolor in /usr/local/lib/python3.6/dist-packages (from fire>=0.1.3->-r requirements.txt (line 1)) (1.1.0)\n",
            "Requirement already satisfied: urllib3<1.25,>=1.21.1 in /usr/local/lib/python3.6/dist-packages (from requests==2.21.0->-r requirements.txt (line 3)) (1.24.3)\n",
            "Requirement already satisfied: chardet<3.1.0,>=3.0.2 in /usr/local/lib/python3.6/dist-packages (from requests==2.21.0->-r requirements.txt (line 3)) (3.0.4)\n",
            "Requirement already satisfied: certifi>=2017.4.17 in /usr/local/lib/python3.6/dist-packages (from requests==2.21.0->-r requirements.txt (line 3)) (2020.6.20)\n",
            "Collecting idna<2.9,>=2.5\n",
            "\u001b[?25l  Downloading https://files.pythonhosted.org/packages/14/2c/cd551d81dbe15200be1cf41cd03869a46fe7226e7450af7a6545bfc474c9/idna-2.8-py2.py3-none-any.whl (58kB)\n",
            "\u001b[K     |████████████████████████████████| 61kB 5.6MB/s \n",
            "\u001b[?25hBuilding wheels for collected packages: fire, regex\n",
            "  Building wheel for fire (setup.py) ... \u001b[?25l\u001b[?25hdone\n",
            "  Created wheel for fire: filename=fire-0.3.1-py2.py3-none-any.whl size=111005 sha256=e7d6ba7b72c55f838cd1d2ea300eff7380be7131a7d8cdf7afe0549972bd3254\n",
            "  Stored in directory: /root/.cache/pip/wheels/c1/61/df/768b03527bf006b546dce284eb4249b185669e65afc5fbb2ac\n",
            "  Building wheel for regex (setup.py) ... \u001b[?25l\u001b[?25hdone\n",
            "  Created wheel for regex: filename=regex-2017.4.5-cp36-cp36m-linux_x86_64.whl size=533199 sha256=c2ca93aa10d1a3521463da9b1300e90724eae4f19d82e1b84c39d4b31d1e9d61\n",
            "  Stored in directory: /root/.cache/pip/wheels/75/07/38/3c16b529d50cb4e0cd3dbc7b75cece8a09c132692c74450b01\n",
            "Successfully built fire regex\n",
            "\u001b[31mERROR: spacy 2.2.4 has requirement tqdm<5.0.0,>=4.38.0, but you'll have tqdm 4.31.1 which is incompatible.\u001b[0m\n",
            "\u001b[31mERROR: google-colab 1.0.0 has requirement requests~=2.23.0, but you'll have requests 2.21.0 which is incompatible.\u001b[0m\n",
            "\u001b[31mERROR: datascience 0.10.6 has requirement folium==0.2.1, but you'll have folium 0.8.3 which is incompatible.\u001b[0m\n",
            "Installing collected packages: fire, regex, idna, requests, tqdm\n",
            "  Found existing installation: regex 2019.12.20\n",
            "    Uninstalling regex-2019.12.20:\n",
            "      Successfully uninstalled regex-2019.12.20\n",
            "  Found existing installation: idna 2.10\n",
            "    Uninstalling idna-2.10:\n",
            "      Successfully uninstalled idna-2.10\n",
            "  Found existing installation: requests 2.23.0\n",
            "    Uninstalling requests-2.23.0:\n",
            "      Successfully uninstalled requests-2.23.0\n",
            "  Found existing installation: tqdm 4.41.1\n",
            "    Uninstalling tqdm-4.41.1:\n",
            "      Successfully uninstalled tqdm-4.41.1\n",
            "Successfully installed fire-0.3.1 idna-2.8 regex-2017.4.5 requests-2.21.0 tqdm-4.31.1\n"
          ],
          "name": "stdout"
        },
        {
          "output_type": "display_data",
          "data": {
            "application/vnd.colab-display-data+json": {
              "pip_warning": {
                "packages": [
                  "idna",
                  "requests",
                  "tqdm"
                ]
              }
            }
          },
          "metadata": {
            "tags": []
          }
        }
      ]
    },
    {
      "cell_type": "code",
      "metadata": {
        "id": "-qIBY-SCG6Xt",
        "colab_type": "code",
        "colab": {
          "base_uri": "https://localhost:8080/",
          "height": 68
        },
        "outputId": "52605b25-334a-42ff-e2f1-8a0cfedb22d6"
      },
      "source": [
        "#More GPT2 requirements before running the model\n",
        "\n",
        "%cd P3-Machine-Teaching\n",
        "%cd GPT2Experiments\n",
        "%cd gpt-2\n",
        "!export PYTHONIOENCODING=UTF-8"
      ],
      "execution_count": null,
      "outputs": [
        {
          "output_type": "stream",
          "text": [
            "/content/P3-Machine-Teaching\n",
            "/content/P3-Machine-Teaching/GPT2Experiments\n",
            "/content/P3-Machine-Teaching/GPT2Experiments/gpt-2\n"
          ],
          "name": "stdout"
        }
      ]
    },
    {
      "cell_type": "code",
      "metadata": {
        "id": "C69ctzgTG-0R",
        "colab_type": "code",
        "colab": {
          "base_uri": "https://localhost:8080/",
          "height": 136
        },
        "outputId": "9b10087f-2757-4099-f70e-0b670eb585b5"
      },
      "source": [
        "!python3 download_model.py 774M"
      ],
      "execution_count": null,
      "outputs": [
        {
          "output_type": "stream",
          "text": [
            "\rFetching checkpoint:   0%|                                              | 0.00/77.0 [00:00<?, ?it/s]\rFetching checkpoint: 1.00kit [00:00, 751kit/s]                                                      \n",
            "\rFetching encoder.json:   0%|                                           | 0.00/1.04M [00:00<?, ?it/s]\rFetching encoder.json: 1.04Mit [00:00, 57.9Mit/s]                                                   \n",
            "Fetching hparams.json: 1.00kit [00:00, 819kit/s]                                                    \n",
            "Fetching model.ckpt.data-00000-of-00001: 3.10Git [00:52, 58.7Mit/s]                                 \n",
            "Fetching model.ckpt.index: 16.0kit [00:00, 9.43Mit/s]                                               \n",
            "Fetching model.ckpt.meta: 1.38Mit [00:00, 53.5Mit/s]                                                \n",
            "Fetching vocab.bpe: 457kit [00:00, 52.2Mit/s]                                                       \n"
          ],
          "name": "stdout"
        }
      ]
    },
    {
      "cell_type": "code",
      "metadata": {
        "id": "KchUJQLrAWk0",
        "colab_type": "code",
        "colab": {}
      },
      "source": [
        "#These lines will create the GPT2 inputs (or queries) in the desired form\n",
        "\n",
        "\n",
        "conceptsNum = 9\n",
        "learningPhasesAggreg = 3\n",
        "testNum = 5\n",
        "\n",
        "queries = ['']*(conceptsNum*learningPhasesAggreg*testNum)\n",
        "\n",
        "witnessSets = [[('0', '0')],[('10', '0')],[('', '0'), ('01', '')],[('0', '011')],[('', '1'), ('1110', '')],[('0', '10'), ('00', '')],[('', '0'), ('0', ''), ('00', '0')],[('', '01'), ('01', ''), ('1', '')],[('', '010'), ('0', ''), ('1', '')]]\n",
        "teachingSets1 = [[('111001', '1'), ('110101', '1')],[('01000', '1'), ('01010', '1')],[('010100', ''), ('10101', '1')],[('10', '1'), ('001', '011')],[('10', '1'), ('111001', '')],[('11', '01'), ('10', '')],[('0001', '0'), ('01', '1')],[('11', ''), ('011', '')],[('100', ''), ('110', '')]]\n",
        "teachingSets2 = [[('100110', '1'), ('111100', '1'), ('01010', '0')],[('001', '0'), ('00', '0'), ('1011', '0')],[('010', ''), ('100', '1'), ('011101', '')],[('0001', '011'), ('00', '011'), ('000', '011')],[('11', '1'), ('0001', '0'), ('11100', '')],[('', '1'), ('101', ''), ('000', '')],[('0101', '1'), ('0010', '0'), ('0110', '1')],[('10', ''), ('0100', ''), ('0', '0')],[('10', ''), ('101', ''), ('11', '')]]\n",
        "\n",
        "unlabeledSets = [['00000', '11100', '00111', '11010', '0010'], ['01011', '0101', '0010', '100', '1'], ['00010', '110', '00111', '11000', '101'], ['01011', '0101', '0010', '100', '1'], ['01011', '110', '0010', '101', '1000'], ['01', '0000', '00011', '0011', '1000'], ['01011', '0000', '00000', '100', '1000'], ['10101', '11101', '00000', '0011', '1111'], ['10101', '0100', '00000', '01000', '1111']]\n",
        "\n",
        "#There will be a total of 9*3*5=135  different queries for GPT2 (9 concepts * 3 learning phases * 5 test examples to complete)\n",
        "\n",
        "#A list with 135 positions (queries) is created. The followed procedure is to store the query for the witness set \n",
        "#of the first concept and the first test example in the first position, for the second test example in the second position...\n",
        "\n",
        "#The query for the WS + first redundant examples of the first concept and the first test example will be stored\n",
        "#in the 6th position...\n",
        "\n",
        "#The query for the WS of the second concept and the first test example in the first test example will be stored \n",
        "#in the 16th position...\n",
        "\n",
        "def createQueries():\n",
        "  for i in range(0, conceptsNum):\n",
        "    for j in range(0, testNum):\n",
        "      #Witness set\n",
        "      num = 1\n",
        "      base = ''\n",
        "      for k in range(0, len(witnessSets[i])):\n",
        "        if witnessSets[i][k][0] == \"\":\n",
        "          input1 = \"-\"\n",
        "        else:\n",
        "          input1 = witnessSets[i][k][0]\n",
        "\n",
        "        if witnessSets[i][k][1] == \"\":\n",
        "          input2 = \"-\"\n",
        "        else:\n",
        "          input2 = witnessSets[i][k][1]\n",
        "\n",
        "        base = base + \"Input\" + str(num) + \": \" + input1 + \", Output\" + str(num) + \": \" + input2 + \"; \"\n",
        "        num = num + 1\n",
        "      queries[i*learningPhasesAggreg*testNum + j] = base + \"Input\" + str(num) + \": \" + unlabeledSets[i][j] + \", Output\" + str(num) + \":\"\n",
        "\n",
        "      for k in range(0, len(teachingSets1[i])):\n",
        "        if teachingSets1[i][k][0] == \"\":\n",
        "          input1 = \"-\"\n",
        "        else:\n",
        "          input1 = teachingSets1[i][k][0]\n",
        "\n",
        "        if teachingSets1[i][k][1] == \"\":\n",
        "          input2 = \"-\"\n",
        "        else:\n",
        "          input2 = teachingSets1[i][k][1]\n",
        "\n",
        "        base = base + \"Input\" + str(num) + \": \" + input1 + \", Output\" + str(num) + \": \" + input2 + \"; \"\n",
        "        num = num + 1\n",
        "      queries[i*learningPhasesAggreg*testNum + j + testNum] = base + \"Input\" + str(num) + \": \" + unlabeledSets[i][j] + \", Output\" + str(num) + \":\"\n",
        "\n",
        "      for k in range(0, len(teachingSets2[i])):\n",
        "        if teachingSets2[i][k][0] == \"\":\n",
        "          input1 = \"-\"\n",
        "        else:\n",
        "          input1 = teachingSets2[i][k][0]\n",
        "\n",
        "        if teachingSets2[i][k][1] == \"\":\n",
        "          input2 = \"-\"\n",
        "        else:\n",
        "          input2 = teachingSets2[i][k][1]\n",
        "\n",
        "        base = base + \"Input\" + str(num) + \": \" + input1 + \", Output\" + str(num) + \": \" + input2 + \"; \"\n",
        "        num = num + 1\n",
        "      queries[i*learningPhasesAggreg*testNum + j + testNum*2] = base + \"Input\" + str(num) + \": \" + unlabeledSets[i][j] + \", Output\" + str(num) + \":\"\n",
        "\n",
        "\n",
        "createQueries()\n",
        "print(queries)\n",
        "    "
      ],
      "execution_count": null,
      "outputs": []
    },
    {
      "cell_type": "code",
      "metadata": {
        "id": "afxgZk-1L0Rz",
        "colab_type": "code",
        "colab": {
          "base_uri": "https://localhost:8080/",
          "height": 34
        },
        "outputId": "307ebd2f-5f78-473e-8c6a-06bf2dc63269"
      },
      "source": [
        "#The total outputs required are equal to 9 * 3 * 5 * 40 (concepts number * learning phases number * test examples number * number of same-query executions \n",
        "#/ repetitions) = 5400. The execution time took more than 4 hours, so it was preferable to persist the results in a file rather than a list in the \n",
        "#python environment.  \n",
        "\n",
        "from google.colab import drive\n",
        "drive.mount('/content/drive')"
      ],
      "execution_count": null,
      "outputs": [
        {
          "output_type": "stream",
          "text": [
            "Drive already mounted at /content/drive; to attempt to forcibly remount, call drive.mount(\"/content/drive\", force_remount=True).\n"
          ],
          "name": "stdout"
        }
      ]
    },
    {
      "cell_type": "code",
      "metadata": {
        "id": "oC6jahJMHkkY",
        "colab_type": "code",
        "colab": {}
      },
      "source": [
        "conceptsNum = 9\n",
        "learningPhasesAggreg = 3\n",
        "testNum = 5\n",
        " \n",
        "numRepeat = 40\n",
        " \n",
        "from src import nointeractive as ni\n",
        " \n",
        "filePath = '/content/drive/My Drive/GPT2results.txt'\n",
        " \n",
        "ni.rungpt2(queries, numRepeat, filePath, conceptsNum, learningPhasesAggreg, testNum)"
      ],
      "execution_count": null,
      "outputs": []
    },
    {
      "cell_type": "code",
      "metadata": {
        "id": "KLB0P253Hl_1",
        "colab_type": "code",
        "colab": {
          "resources": {
            "http://localhost:8080/nbextensions/google.colab/files.js": {
              "data": "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",
              "ok": true,
              "headers": [
                [
                  "content-type",
                  "application/javascript"
                ]
              ],
              "status": 200,
              "status_text": ""
            }
          },
          "base_uri": "https://localhost:8080/",
          "height": 72
        },
        "outputId": "1346f2d5-f3f9-4b3d-afe8-9131a84bc854"
      },
      "source": [
        "#Upload results file generated with the previous code snippet\n",
        "\n",
        "from google.colab import files\n",
        "uploaded = files.upload()"
      ],
      "execution_count": null,
      "outputs": [
        {
          "output_type": "display_data",
          "data": {
            "text/html": [
              "\n",
              "     <input type=\"file\" id=\"files-cbd2fe37-68ca-405a-a967-89e709f3ccc8\" name=\"files[]\" multiple disabled\n",
              "        style=\"border:none\" />\n",
              "     <output id=\"result-cbd2fe37-68ca-405a-a967-89e709f3ccc8\">\n",
              "      Upload widget is only available when the cell has been executed in the\n",
              "      current browser session. Please rerun this cell to enable.\n",
              "      </output>\n",
              "      <script src=\"/nbextensions/google.colab/files.js\"></script> "
            ],
            "text/plain": [
              "<IPython.core.display.HTML object>"
            ]
          },
          "metadata": {
            "tags": []
          }
        },
        {
          "output_type": "stream",
          "text": [
            "Saving GPT2results.txt to GPT2results.txt\n"
          ],
          "name": "stdout"
        }
      ]
    },
    {
      "cell_type": "code",
      "metadata": {
        "id": "K58aQLPxIE7y",
        "colab_type": "code",
        "colab": {}
      },
      "source": [
        "resdata = uploaded[\"GPT2results.txt\"].decode(\"utf-8\").split(\"\\n\")"
      ],
      "execution_count": null,
      "outputs": []
    },
    {
      "cell_type": "code",
      "metadata": {
        "id": "8sFXh5DWIKMb",
        "colab_type": "code",
        "colab": {}
      },
      "source": [
        "#Data cleaning\n",
        "resdata = [x for x in resdata if x != '']"
      ],
      "execution_count": null,
      "outputs": []
    },
    {
      "cell_type": "code",
      "metadata": {
        "id": "UyXwTbiTJjin",
        "colab_type": "code",
        "colab": {}
      },
      "source": [
        "print(resdata)"
      ],
      "execution_count": null,
      "outputs": []
    },
    {
      "cell_type": "code",
      "metadata": {
        "id": "LsYVj6UaKKRS",
        "colab_type": "code",
        "colab": {
          "base_uri": "https://localhost:8080/",
          "height": 51
        },
        "outputId": "aee50caa-3b5b-485d-aebd-359ad994554a"
      },
      "source": [
        "#Not the perfect code (in terms of functionality), as some list positions are not analyzed. Anyway, the purpose is accomplished, as the two rows with\n",
        "#information not cleaned with the postprocess above-performed are found correctly\n",
        "\n",
        "conceptsNum = 9\n",
        "learningPhasesAggreg = 3\n",
        "testNum = 5\n",
        "\n",
        "numReps = 40\n",
        "\n",
        "\n",
        "for c in range(1,conceptsNum + 1):\n",
        "  for p in range(1,learningPhasesAggreg + 1):\n",
        "    for t in range(1,testNum + 1):\n",
        "      for r in range(1,numReps + 1):\n",
        "        if not resdata[(c-1)*learningPhasesAggreg*testNum*numReps +(p-1)*testNum*numReps + (t-1)*numReps + (r-1)].startswith(\"Concept \" + str(c) + \" Phase \" + str(p) + \" Test \" + str(t) + \" Repetition \" + str(r)):\n",
        "          print((c-1)*learningPhasesAggreg*testNum*numReps +(p-1)*testNum*numReps + (t-1)*numReps + (r-1))\n",
        "          resdata.pop((c-1)*learningPhasesAggreg*testNum*numReps +(p-1)*testNum*numReps + (t-1)*numReps + (r-1))"
      ],
      "execution_count": null,
      "outputs": [
        {
          "output_type": "stream",
          "text": [
            "4291\n",
            "4683\n"
          ],
          "name": "stdout"
        }
      ]
    },
    {
      "cell_type": "code",
      "metadata": {
        "id": "yBOoi6n1QmWw",
        "colab_type": "code",
        "colab": {
          "base_uri": "https://localhost:8080/",
          "height": 34
        },
        "outputId": "e17c4c31-67ba-48be-ad03-4d3cd4752072"
      },
      "source": [
        "#Must be 9*3*5*40 = 5400\n",
        "len(resdata)"
      ],
      "execution_count": null,
      "outputs": [
        {
          "output_type": "execute_result",
          "data": {
            "text/plain": [
              "5400"
            ]
          },
          "metadata": {
            "tags": []
          },
          "execution_count": 6
        }
      ]
    },
    {
      "cell_type": "code",
      "metadata": {
        "id": "p1MQ-7XrVVuY",
        "colab_type": "code",
        "colab": {}
      },
      "source": [
        "#Data cleaning\n",
        "for i in range(0, len(resdata)):\n",
        "  resdata[i] = resdata[i].split('//')"
      ],
      "execution_count": null,
      "outputs": []
    },
    {
      "cell_type": "code",
      "metadata": {
        "id": "43RDZFxfXBHv",
        "colab_type": "code",
        "colab": {}
      },
      "source": [
        "#Data cleaning\n",
        "for i in range(0, len(resdata)):\n",
        "  resdata[i][2] = resdata[i][2].split('Output= ')\n",
        "  resdata[i][2].pop(0)\n",
        "  resdata[i][2][0] = resdata[i][2][0].lstrip(' ')\n",
        "  resdata[i][2] = resdata[i][2][0]"
      ],
      "execution_count": null,
      "outputs": []
    },
    {
      "cell_type": "code",
      "metadata": {
        "id": "Ay2dosI0V-Nb",
        "colab_type": "code",
        "colab": {}
      },
      "source": [
        "#Outputs cleaning\n",
        "for i in range(0, len(resdata)):\n",
        "  for j in range(0, len(resdata[i][2])):\n",
        "    if resdata[i][2][j] != '1' and resdata[i][2][j] != '0' and resdata[i][2][j]:\n",
        "      if j == 0:\n",
        "        if resdata[i][2][j] == '-':  \n",
        "          resdata[i][2] = \"-\"\n",
        "        else:\n",
        "          resdata[i][2] = ''\n",
        "      else:\n",
        "        resdata[i][2] = resdata[i][2][:j]\n",
        "      break\n",
        "    "
      ],
      "execution_count": null,
      "outputs": []
    },
    {
      "cell_type": "markdown",
      "metadata": {
        "id": "ZKxCY2PQQwsf",
        "colab_type": "text"
      },
      "source": [
        "MOST FREQUENT OUTPUT (IN CASE OF TIES, RANDOM SELECTION WITH SEED 23) "
      ]
    },
    {
      "cell_type": "code",
      "metadata": {
        "id": "yGyUY5d5Q4oS",
        "colab_type": "code",
        "colab": {
          "base_uri": "https://localhost:8080/",
          "height": 513
        },
        "outputId": "651eebf8-ecaa-477c-eebe-a02435f12e4d"
      },
      "source": [
        "#MOST FREQUENT\n",
        "\n",
        "import random as rn\n",
        "\n",
        "conceptsNum = 9\n",
        "learningPhasesAggreg = 3\n",
        "testNum = 5\n",
        "\n",
        "seed = 23\n",
        "\n",
        "numReps = 40\n",
        "\n",
        "aggregAnswers = ['']*(conceptsNum*learningPhasesAggreg*testNum)\n",
        "\n",
        "#https://www.geeksforgeeks.org/python-find-most-frequent-element-in-a-list/ addapted\n",
        "\n",
        "#Return the most repeated element in a list or a list with the most repeated elements\n",
        "def most_frequent(passed_list): \n",
        "  counter = 0 \n",
        "      \n",
        "  for i in passed_list: \n",
        "    curr_frequency = passed_list.count(i) \n",
        "    if curr_frequency > counter: \n",
        "      counter = curr_frequency\n",
        "      num = i \n",
        "    elif curr_frequency == counter:\n",
        "      if isinstance(num, list):\n",
        "        if not i in num:\n",
        "          num.append(i)\n",
        "      elif i != num:\n",
        "        num = [num,i]\n",
        "  \n",
        "  return num \n",
        "\n",
        "\n",
        "#Collect the different outputs provided by GPT2 for a test example and call most_frequent to obtain the most frequent output or the list with the most\n",
        "#frequent ones in case of ties. In the later case, perform random selection.\n",
        "for i in range(0, conceptsNum):\n",
        "  for j in range(0,learningPhasesAggreg):\n",
        "    for k in range(0,testNum):\n",
        "      checklist = list('')\n",
        "      for r in range(0,numReps):\n",
        "        if resdata[i*learningPhasesAggreg*testNum*numReps+j*testNum*numReps+k*numReps+r][2] != '':\n",
        "          checklist.append(resdata[i*learningPhasesAggreg*testNum*numReps+j*testNum*numReps+k*numReps+r][2])\n",
        "      aggregAnswers[i*learningPhasesAggreg*testNum + j*testNum + k] = most_frequent(checklist)\n",
        "      if isinstance(aggregAnswers[i*learningPhasesAggreg*testNum + j*testNum + k], list):\n",
        "         rn.seed(seed)\n",
        "         aggregAnswers[i*learningPhasesAggreg*testNum + j*testNum + k] = rn.choice(aggregAnswers[i*learningPhasesAggreg*testNum + j*testNum + k])\n",
        "\n",
        "print(aggregAnswers)\n",
        "\n",
        "correctAnswers = ['0','1','0','1','0','1','1','0','0','-','1','-','1','-','1', '011', '011', '011', '1', '1', '0', '1', '-', '1', '-', '00', '-', '-', '-', '-', '1', '0', '0', '-', '-', '-', '-', '1', '1', '-', '-', '-', '-', '-', '-']\n",
        "\n",
        "#Calculate the accuracies\n",
        "for i in range(0, conceptsNum):\n",
        "  for j in range(0, learningPhasesAggreg):\n",
        "    accuracy = 0\n",
        "    for k in range(0, testNum):\n",
        "      if aggregAnswers[i*learningPhasesAggreg*testNum + j*testNum + k] == correctAnswers[i*testNum +k]:\n",
        "        accuracy = accuracy + (1/testNum)\n",
        "    print(\"GPT2 Accuracy for C\" + str(i+1) + \" in Phase \" + str(j+1) + \": \" + str(accuracy*100))\n",
        "\n"
      ],
      "execution_count": null,
      "outputs": [
        {
          "output_type": "stream",
          "text": [
            "['00000', '11100', '0', '11010', '0', '1', '1', '1', '1', '1', '0', '0', '0', '0', '0', '0', '0', '0', '0', '0', '1', '1', '1', '0', '0', '0', '0', '0', '0', '0', '-', '-', '-', '-', '-', '-', '0', '-', '1', '-', '-', '1', '-', '1', '1', '0', '0', '011', '010', '0', '0101', '0101', '011', '011', '011', '011', '011', '011', '011', '011', '-', '-', '1', '-', '-', '-', '1', '-', '1', '1', '-', '1', '0', '1', '-', '0', '00', '-', '-', '-', '-', '01', '-', '-', '-', '-', '-', '-', '-', '-', '0', '0', '0', '0', '0', '1', '0', '0', '0', '0', '1', '0', '0', '0', '0', '-', '-', '01', '01', '1111', '-', '-', '-', '-', '-', '-', '-', '-', '-', '-', '-', '-', '-', '-', '-', '-', '-', '-', '-', '-', '-', '-', '-', '-', '-']\n",
            "GPT2 Accuracy for C1 in Phase 1: 40.0\n",
            "GPT2 Accuracy for C1 in Phase 2: 40.0\n",
            "GPT2 Accuracy for C1 in Phase 3: 60.00000000000001\n",
            "GPT2 Accuracy for C2 in Phase 1: 40.0\n",
            "GPT2 Accuracy for C2 in Phase 2: 60.00000000000001\n",
            "GPT2 Accuracy for C2 in Phase 3: 40.0\n",
            "GPT2 Accuracy for C3 in Phase 1: 40.0\n",
            "GPT2 Accuracy for C3 in Phase 2: 0\n",
            "GPT2 Accuracy for C3 in Phase 3: 20.0\n",
            "GPT2 Accuracy for C4 in Phase 1: 20.0\n",
            "GPT2 Accuracy for C4 in Phase 2: 20.0\n",
            "GPT2 Accuracy for C4 in Phase 3: 60.00000000000001\n",
            "GPT2 Accuracy for C5 in Phase 1: 20.0\n",
            "GPT2 Accuracy for C5 in Phase 2: 60.00000000000001\n",
            "GPT2 Accuracy for C5 in Phase 3: 60.00000000000001\n",
            "GPT2 Accuracy for C6 in Phase 1: 60.00000000000001\n",
            "GPT2 Accuracy for C6 in Phase 2: 60.00000000000001\n",
            "GPT2 Accuracy for C6 in Phase 3: 80.0\n",
            "GPT2 Accuracy for C7 in Phase 1: 40.0\n",
            "GPT2 Accuracy for C7 in Phase 2: 60.00000000000001\n",
            "GPT2 Accuracy for C7 in Phase 3: 60.00000000000001\n",
            "GPT2 Accuracy for C8 in Phase 1: 40.0\n",
            "GPT2 Accuracy for C8 in Phase 2: 60.00000000000001\n",
            "GPT2 Accuracy for C8 in Phase 3: 60.00000000000001\n",
            "GPT2 Accuracy for C9 in Phase 1: 100.0\n",
            "GPT2 Accuracy for C9 in Phase 2: 100.0\n",
            "GPT2 Accuracy for C9 in Phase 3: 100.0\n"
          ],
          "name": "stdout"
        }
      ]
    },
    {
      "cell_type": "markdown",
      "metadata": {
        "id": "VMlxcVTb6gCk",
        "colab_type": "text"
      },
      "source": [
        "AVERAGE ACCURACY WITH N = 40 GPT2 MACHINES"
      ]
    },
    {
      "cell_type": "code",
      "metadata": {
        "id": "rSARQ9rc7Fhm",
        "colab_type": "code",
        "colab": {
          "base_uri": "https://localhost:8080/",
          "height": 513
        },
        "outputId": "1f979b6c-b842-4c41-b11e-69a59c52a89a"
      },
      "source": [
        "import random as rn\n",
        "\n",
        "conceptsNum = 9\n",
        "learningPhasesAggreg = 3\n",
        "testNum = 5\n",
        "\n",
        "seed = 23\n",
        "\n",
        "numReps = 40\n",
        "\n",
        "#https://www.geeksforgeeks.org/python-find-most-frequent-element-in-a-list/ addapted\n",
        "\n",
        "#Return the different-elements-of-a-list frequencies in a list of lists [value, frequency]\n",
        "def list_frequency(passed_list):\n",
        "  num = ['']     \n",
        "  for i in passed_list: \n",
        "    if not [i,passed_list.count(i)] in num:\n",
        "      if num[0] == '':\n",
        "        num[0]= [i, passed_list.count(i)]\n",
        "      else:\n",
        "        num.append([i, passed_list.count(i)])\n",
        "                   \n",
        "  return num \n",
        "\n",
        "\n",
        "\n",
        "accuracyList = ['']*conceptsNum\n",
        "\n",
        "aggregAnswers = ['']*(conceptsNum*learningPhasesAggreg*testNum)\n",
        "\n",
        "\n",
        "for i in range(0, conceptsNum):\n",
        "  accuracyList[i] = [0]*learningPhasesAggreg\n",
        "  for j in range(0,learningPhasesAggreg):\n",
        "    for k in range(0,testNum):\n",
        "      checklist = list('')\n",
        "      for r in range(0,numReps):\n",
        "        #Don't include the empty outputs (after performing the data cleaning above-executed)\n",
        "        if resdata[i*learningPhasesAggreg*testNum*numReps+j*testNum*numReps+k*numReps+r][2] != '':\n",
        "          checklist.append(resdata[i*learningPhasesAggreg*testNum*numReps+j*testNum*numReps+k*numReps+r][2])\n",
        "      #Return the list with the output-frequency pairs\n",
        "      aggregAnswers[i*learningPhasesAggreg*testNum + j*testNum + k] = list_frequency(checklist)\n",
        "\n",
        "\n",
        "\n",
        "\n",
        "print(aggregAnswers)\n",
        "\n",
        "correctAnswers = ['0','1','0','1','0','1','1','0','0','-','1','-','1','-','1', '011', '011', '011', '1', '1', '0', '1', '-', '1', '-', '00', '-', '-', '-', '-', '1', '0', '0', '-', '-', '-', '-', '1', '1', '-', '-', '-', '-', '-', '-']\n",
        "\n",
        "#Calculate the expected accuracy for N = 40 GPT2 Machines\n",
        "for i in range(0, conceptsNum):\n",
        "  for j in range(0, learningPhasesAggreg):\n",
        "    accuracy = 0\n",
        "    for k in range(0, testNum):\n",
        "      for l in range(0, len(aggregAnswers[i*learningPhasesAggreg*testNum + j*testNum + k])):\n",
        "        if aggregAnswers[i*learningPhasesAggreg*testNum + j*testNum + k][l][0] == correctAnswers[i*testNum + k]:\n",
        "          accuracy = accuracy + (1/testNum) * (aggregAnswers[i*learningPhasesAggreg*testNum + j*testNum + k][l][1]/numReps)\n",
        "    print(\"GPT2 Accuracy for C\" + str(i+1) + \" in Phase \" + str(j+1) + \": \" + str(accuracy * 100))"
      ],
      "execution_count": null,
      "outputs": [
        {
          "output_type": "stream",
          "text": [
            "[[['0', 5], ['1', 3], ['01000000', 1], ['00000', 13], ['01', 1], ['001', 2], ['00', 1], ['00010', 1], ['011', 1]], [['11100', 9], ['1', 4], ['00000000', 3], ['11', 1], ['111', 1], ['0', 7], ['100000', 1], ['010', 1], ['0100000', 1], ['11101', 2], ['0000100', 1], ['01111', 1], ['1100', 1]], [['000', 1], ['0111', 2], ['011111', 1], ['0', 11], ['001', 1], ['0000000000000000', 1], ['000011', 2], ['00000000', 2], ['00000', 3], ['01', 2], ['1', 2], ['10111', 1], ['00111', 3], ['11111', 1], ['00000000000000', 1], ['0010', 1]], [['11001', 2], ['11010', 12], ['11', 1], ['1', 5], ['-', 1], ['0', 11], ['10', 1], ['11011', 1]], [['0010', 9], ['-', 1], ['0', 12], ['000', 2], ['00010010', 1], ['0001', 1], ['010000', 1], ['1', 2], ['00000000', 2], ['010', 1], ['1000', 1], ['10001', 1], ['0100', 1]], [['1', 24], ['-', 1], ['0', 13], ['1110000', 1]], [['11101', 1], ['1', 32], ['0', 6]], [['1', 26], ['0', 12], ['-', 1]], [['1', 36], ['0', 4]], [['1', 26], ['0', 8], ['10100', 1]], [['0', 28], ['1', 11]], [['0', 25], ['1', 15]], [['1', 16], ['0', 23]], [['0', 24], ['1', 16]], [['0', 26], ['1', 11], ['10', 1], ['-', 1]], [['0', 16], ['0000000000', 1], ['01010', 2], ['01000000', 1], ['1000', 1], ['01011', 3], ['1', 2], ['10', 2], ['110', 1], ['1001', 1]], [['1', 3], ['0101', 4], ['0', 17], ['1000', 1], ['010', 1], ['100001010', 1], ['11', 1], ['110', 1], ['00000000', 1], ['0000', 1], ['0100', 1], ['00', 1], ['0110', 1], ['00010', 1], ['10', 1]], [['0', 12], ['0011', 4], ['0111', 2], ['10', 2], ['0001', 1], ['1', 2], ['0010', 3], ['010', 1], ['1100', 1], ['00000', 1], ['-', 1], ['11', 1], ['00110', 1], ['0110', 1], ['100', 1], ['01', 1]], [['0', 13], ['100', 3], ['1', 11], ['10', 1], ['1000', 2], ['-', 2]], [['0', 23], ['-', 1], ['1', 5], ['10', 3]], [['0', 6], ['1', 31]], [['1', 28], ['0', 8]], [['0', 13], ['1', 24], ['11', 1]], [['1', 14], ['0', 22], ['100', 1]], [['0', 27], ['1', 10]], [['0', 27], ['1', 12]], [['0', 22], ['1', 18]], [['0', 29], ['1', 10]], [['0', 30], ['1', 7]], [['0', 28], ['1', 11]], [['-', 18], ['1', 1], ['0', 5], ['00010', 1], ['11', 1], ['010', 1], ['01', 5], ['01011', 1], ['01000', 1], ['100', 1]], [['1', 5], ['-', 14], ['100', 1], ['111', 2], ['0', 4], ['01', 2], ['00', 1]], [['0', 7], ['1', 3], ['001111', 1], ['01', 3], ['00111', 3], ['00000000', 1], ['-', 9], ['100001', 1], ['01111111', 1], ['00', 1], ['10', 1], ['01000', 1], ['010011', 1]], [['0', 11], ['-', 11], ['1', 3], ['10', 1], ['11', 1], ['010', 1], ['00', 1], ['01', 1], ['11000', 1]], [['-', 19], ['0', 7], ['1110', 1], ['01', 1], ['101', 1], ['11', 1], ['1', 1], ['10', 1], ['100', 1]], [['0', 10], ['-', 21], ['1', 5], ['1000', 1]], [['-', 11], ['0', 15], ['1', 6]], [['-', 19], ['1', 9], ['0', 7], ['001111', 1]], [['1', 13], ['00', 1], ['-', 10], ['0', 7]], [['1', 4], ['-', 18], ['0', 15]], [['1', 10], ['-', 20], ['0', 5], ['001101', 1], ['100', 1]], [['0', 6], ['1', 30], ['-', 3]], [['-', 19], ['1', 15], ['0', 2], ['00000', 1], ['01', 1]], [['0', 12], ['-', 8], ['1', 17], ['10', 1]], [['1', 32], ['-', 3], ['0', 4]], [['10', 1], ['00100', 1], ['01', 2], ['0111', 1], ['0', 10], ['0101', 1], ['1', 2], ['01011', 3], ['01010', 4], ['011', 1], ['0010', 2], ['011001', 1], ['11111', 1], ['000', 2], ['01001', 2], ['00111', 1], ['01100', 1], ['0100', 1], ['0011', 1]], [['0101', 7], ['0010', 2], ['0', 7], ['011', 4], ['010', 7], ['00000000', 1], ['0001', 1], ['0100', 1], ['1000', 1], ['1', 1], ['100', 1], ['10000', 2], ['001', 1]], [['01', 1], ['0', 4], ['0110', 1], ['010', 4], ['011', 11], ['0011', 5], ['0111', 2], ['0101', 1], ['1', 1], ['0100', 1], ['001', 1], ['1011', 1], ['110', 1], ['00', 1], ['0010', 1]], [['1', 2], ['100', 2], ['110', 2], ['0', 3], ['1100', 1], ['010', 5], ['011', 2], ['01', 2], ['1000', 1], ['101', 2], ['00000000', 1], ['0110', 1], ['00', 4], ['1111', 1], ['111', 1], ['0001', 1], ['1001', 1], ['0000', 1], ['000', 1]], [['0', 20], ['01', 4], ['001', 2], ['010', 2], ['00', 3], ['1', 1], ['011', 3], ['0001', 1]], [['0101', 7], ['011', 6], ['01011', 3], ['0', 5], ['01010', 1], ['0111', 2], ['010010', 1], ['01001', 1], ['10', 1], ['01', 1], ['1', 2], ['1111', 1], ['001', 2], ['00101', 1], ['0011', 2], ['1001', 1]], [['011', 7], ['010', 3], ['001', 5], ['0101', 7], ['00', 1], ['10', 2], ['1', 3], ['000', 3], ['0010', 1], ['0', 2], ['0100', 2], ['00000000', 1]], [['0110', 1], ['011', 16], ['0010', 2], ['1000', 1], ['0', 4], ['0101', 1], ['010', 3], ['1', 1], ['01', 1], ['000001', 1], ['100', 1], ['000', 1], ['00', 1], ['10', 3], ['11', 1], ['1011', 1]], [['100', 4], ['1', 5], ['011', 13], ['001', 3], ['1000', 1], ['0', 3], ['01', 1], ['10', 3], ['1011', 1], ['010', 3], ['101', 1], ['11', 1]], [['011', 12], ['001', 5], ['-', 1], ['010', 4], ['1', 4], ['000', 1], ['00', 2], ['0', 7], ['10', 2]], [['01', 1], ['011', 21], ['01010', 2], ['00111111', 1], ['0101', 4], ['0001', 3], ['1', 1], ['01011', 4], ['-', 1], ['001', 1]], [['011', 28], ['00', 3], ['000', 1], ['001', 1], ['0101', 2], ['01', 3], ['1', 1], ['010', 1]], [['0', 1], ['011', 36], ['010', 2], ['01', 1]], [['011', 22], ['0', 3], ['0001', 1], ['100', 3], ['1', 7], ['0101', 1], ['0000', 1], ['101', 1]], [['011', 18], ['00', 7], ['0011', 1], ['100', 1], ['0', 6], ['1', 3], ['000', 1], ['010', 1]], [['0', 4], ['-', 13], ['10', 1], ['01010', 1], ['0101', 1], ['1110', 1], ['11110', 1], ['01000', 1], ['1', 4], ['1111', 1], ['01101', 1], ['0111', 1]], [['-', 19], ['1', 12], ['111', 1], ['1111', 1], ['0', 1], ['1110', 1]], [['1111', 1], ['-', 14], ['1', 18], ['0000', 1], ['1110', 3], ['10', 1], ['0', 1]], [['-', 18], ['1', 10], ['0', 3], ['1110', 1], ['100', 1]], [['-', 24], ['1', 8], ['100', 1], ['1110', 2]], [['-', 19], ['000', 1], ['1', 15], ['0', 2], ['111111', 1]], [['1', 22], ['-', 12], ['11', 1], ['0', 1], ['10', 3], ['111100', 1]], [['1', 12], ['-', 20], ['10', 2], ['0', 3], ['010010', 1], ['111010', 1]], [['1', 20], ['-', 11], ['0', 3], ['111', 1], ['1110', 1], ['11', 1], ['100', 1]], [['1', 20], ['-', 13], ['0', 2], ['100', 1], ['1110', 2]], [['-', 14], ['0', 12], ['110', 1], ['1', 8], ['01100', 1], ['11', 1]], [['1', 26], ['-', 5], ['0', 9]], [['1', 10], ['0', 23], ['-', 3], ['10', 1]], [['0', 5], ['1', 24], ['-', 9]], [['-', 18], ['1', 16], ['0', 6]], [['00', 6], ['1', 4], ['00000000', 1], ['01', 5], ['0', 8], ['-', 5], ['10', 2], ['11', 1], ['1000', 1]], [['-', 5], ['1', 3], ['100', 1], ['00', 6], ['11', 2], ['0100', 1], ['10', 1], ['0', 2], ['0000', 3], ['0000000000000000', 1], ['010', 1], ['10001', 1], ['000', 1], ['0011', 1]], [['-', 9], ['10', 1], ['0', 8], ['00010', 2], ['1', 3], ['1000', 1], ['00', 1], ['000', 1], ['11', 2], ['000011', 1], ['0100', 1], ['000111', 1], ['01', 1]], [['00', 4], ['-', 7], ['10', 1], ['01111111', 1], ['01', 1], ['0', 4], ['00111', 2], ['011111', 1], ['0100', 1], ['11', 1], ['001111', 1], ['0111100', 1], ['0011000000', 1], ['0011', 1], ['1', 1]], [['10', 1], ['-', 13], ['1000', 8], ['0000', 1], ['100000', 1], ['1', 1], ['100', 1], ['0', 3], ['1010', 1], ['1110', 1], ['1001', 1], ['00', 1]], [['-', 16], ['00', 5], ['01', 5], ['11', 5], ['000', 1], ['0', 2], ['10', 1], ['1', 1]], [['0', 3], ['01', 13], ['00', 6], ['-', 7], ['10', 5], ['1', 1], ['101', 1], ['0100', 1], ['11111', 1]], [['0', 2], ['010101', 1], ['10', 2], ['001010', 1], ['010001', 1], ['-', 15], ['00000', 1], ['1010', 1], ['00011', 1], ['00', 3], ['1', 3], ['0001', 1], ['11', 1], ['01', 1], ['1011', 1], ['0010', 1], ['0000', 1], ['00100', 1]], [['0001', 1], ['01000', 1], ['10', 2], ['-', 12], ['100000', 1], ['00', 3], ['000000001111', 1], ['0', 4], ['01', 4], ['0100100', 1], ['0111111', 1], ['010', 1], ['011', 1], ['010011', 1], ['0100', 1], ['11', 2], ['001001', 1], ['1', 1]], [['1000', 8], ['1000000', 1], ['100000', 1], ['01', 1], ['-', 12], ['00', 3], ['0', 4], ['1', 3], ['0100', 1]], [['00', 4], ['-', 18], ['0000', 1], ['11', 1], ['0', 4], ['01', 3], ['1', 3], ['101', 1], ['10', 2], ['110', 1]], [['-', 21], ['10', 2], ['00', 2], ['1', 4], ['01', 1], ['0', 6]], [['-', 25], ['01', 2], ['10', 1], ['1', 3], ['0', 1], ['10000', 1], ['00001', 1], ['000', 1], ['00', 1]], [['-', 20], ['0000', 1], ['00', 2], ['0', 1], ['01', 2], ['101', 2], ['1111', 1], ['1', 5], ['0001', 1]], [['0', 10], ['01', 3], ['-', 17], ['1', 5], ['001', 1], ['10', 1], ['100', 1]], [['1000', 1], ['0', 21], ['-', 9], ['00011', 1], ['1', 3], ['01100', 1], ['1001101', 1], ['111111', 1]], [['1', 2], ['0', 25], ['01', 1], ['-', 6], ['00', 1], ['1000000', 1]], [['-', 5], ['0', 22], ['01', 1], ['00', 2], ['011', 1], ['1', 1], ['1000000', 1]], [['100', 3], ['0', 20], ['-', 8], ['1', 3], ['1000', 1]], [['0', 25], ['1000', 4], ['100', 1], ['-', 6], ['100000', 1], ['1', 1]], [['00', 1], ['1', 18], ['0', 17], ['-', 2], ['1111', 1]], [['-', 4], ['1', 14], ['0', 21]], [['0', 24], ['-', 2], ['01', 1], ['1', 10], ['10', 1]], [['-', 4], ['1', 10], ['0', 21], ['100', 1]], [['1', 16], ['0', 16], ['-', 5], ['100000', 1]], [['1', 33], ['0', 7]], [['0', 28], ['1', 11]], [['0', 30], ['1', 7], ['1111111', 1], ['-', 1]], [['0', 29], ['1', 10], ['100', 1]], [['0', 26], ['1', 13], ['1000', 1]], [['11', 1], ['-', 16], ['01', 9], ['010101', 1], ['10001', 1], ['1', 4], ['1010000', 1], ['1111', 1], ['10101', 1], ['101010', 1]], [['11111111', 1], ['011', 1], ['00', 1], ['1111', 2], ['01', 6], ['11101', 3], ['-', 9], ['1', 3], ['11111', 2], ['11110', 1], ['0', 2], ['1110000', 1], ['111100', 1], ['111', 2], ['00000000', 1], ['11', 1]], [['00', 3], ['01', 11], ['0', 5], ['-', 9], ['0000', 1], ['10', 1], ['1', 3], ['01000', 1], ['00000', 1]], [['0', 2], ['00000000', 1], ['00', 1], ['-', 9], ['01', 11], ['0000', 1], ['00111', 1], ['0111', 3], ['0011', 4], ['0001', 1], ['1010', 1], ['11', 1]], [['01', 7], ['1', 4], ['-', 5], ['1111', 10], ['00', 1], ['1011', 2], ['011111', 2], ['001010', 1], ['11111', 1]], [['-', 30], ['1', 2], ['000', 1], ['10', 1], ['01', 2], ['010101', 1]], [['01', 6], ['-', 20], ['11101', 1], ['1111', 1], ['11', 2], ['0111', 1], ['00', 1], ['01001', 1], ['010', 1], ['011', 1]], [['0', 3], ['010', 1], ['-', 21], ['01', 4], ['00000', 2], ['00', 1], ['1', 1]], [['011', 1], ['-', 30], ['000', 1], ['01', 3], ['0011', 1], ['0', 2], ['11', 1], ['1', 1]], [['0', 1], ['-', 28], ['1111', 2], ['010101', 1], ['01', 1], ['1', 2], ['100000', 1]], [['-', 27], ['0', 6], ['1', 4]], [['1', 2], ['-', 27], ['0', 3], ['01', 1], ['11101', 1], ['011', 2], ['0100', 1]], [['00000', 1], ['-', 18], ['0', 10], ['1', 5], ['0100', 1], ['01', 1]], [['01', 1], ['-', 30], ['00', 1], ['0', 5], ['1', 1]], [['-', 24], ['10', 1], ['0', 5], ['0101', 1], ['01', 1], ['11111', 1], ['1111', 2], ['000101', 1], ['110000', 1]], [['-', 17], ['0', 5], ['01100', 1], ['101101', 1], ['00', 1], ['01010', 1], ['0111', 1], ['000', 1], ['1100', 1], ['1', 1], ['00000000', 2], ['00010', 1], ['0110', 1], ['1111', 1], ['10001', 1], ['01101', 1]], [['-', 13], ['0011', 2], ['001', 1], ['011', 3], ['0', 7], ['0100', 3], ['010', 4], ['000', 1], ['1', 1], ['01', 1], ['00', 1]], [['-', 10], ['00000000', 1], ['00000', 1], ['1', 1], ['010', 5], ['000', 2], ['00100', 1], ['01000', 1], ['0', 4], ['00', 3], ['0100', 2], ['10', 1], ['010000', 1], ['000000', 1], ['0001', 1]], [['-', 11], ['01', 3], ['0', 7], ['0100', 2], ['00', 1], ['0000', 1], ['000', 1], ['010', 3], ['1', 1], ['01010', 1], ['00000', 1], ['0001', 1], ['10', 1]], [['-', 14], ['1111', 5], ['0', 2], ['01', 1], ['000000', 2], ['0111', 1], ['010', 3], ['001111', 1], ['1', 3], ['10', 2], ['0101', 1]], [['-', 25], ['100', 3], ['1', 3], ['010', 1], ['011', 1], ['010000', 1], ['0', 3], ['001111', 1], ['00000', 1]], [['-', 27], ['010', 2], ['0', 3], ['000100', 1], ['1000', 1], ['00', 2], ['011', 1], ['0101', 1], ['01', 1]], [['100', 1], ['-', 25], ['0', 5], ['0001', 1], ['010', 2], ['00', 2], ['110000', 1], ['00000', 1]], [['-', 26], ['10000010', 1], ['0', 3], ['01100', 1], ['010', 1], ['1', 2], ['00', 1], ['1000', 1], ['00001', 1], ['100', 1]], [['-', 37]], [['-', 30], ['0', 3], ['1', 1], ['010', 2], ['0101', 1]], [['-', 27], ['101', 2], ['110', 1], ['1', 1], ['010', 1], ['00', 1], ['11001', 1], ['0', 3], ['11', 1], ['0100', 1]], [['-', 24], ['0', 6], ['000', 1], ['010', 1], ['01', 1], ['100000000000000', 1], ['1', 1], ['01000', 1]], [['010000', 2], ['-', 22], ['01', 1], ['100000', 2], ['0', 4], ['010', 3], ['100', 1], ['0100', 1], ['01000', 1]], [['-', 34], ['010', 1], ['0', 2], ['000', 1]]]\n",
            "GPT2 Accuracy for C1 in Phase 1: 18.5\n",
            "GPT2 Accuracy for C1 in Phase 2: 50.500000000000014\n",
            "GPT2 Accuracy for C1 in Phase 3: 54.0\n",
            "GPT2 Accuracy for C2 in Phase 1: 15.5\n",
            "GPT2 Accuracy for C2 in Phase 2: 47.00000000000001\n",
            "GPT2 Accuracy for C2 in Phase 3: 44.50000000000001\n",
            "GPT2 Accuracy for C3 in Phase 1: 15.000000000000002\n",
            "GPT2 Accuracy for C3 in Phase 2: 19.500000000000007\n",
            "GPT2 Accuracy for C3 in Phase 3: 34.00000000000001\n",
            "GPT2 Accuracy for C4 in Phase 1: 9.500000000000004\n",
            "GPT2 Accuracy for C4 in Phase 2: 19.0\n",
            "GPT2 Accuracy for C4 in Phase 3: 47.5\n",
            "GPT2 Accuracy for C5 in Phase 1: 32.0\n",
            "GPT2 Accuracy for C5 in Phase 2: 38.50000000000001\n",
            "GPT2 Accuracy for C5 in Phase 3: 41.5\n",
            "GPT2 Accuracy for C6 in Phase 1: 20.0\n",
            "GPT2 Accuracy for C6 in Phase 2: 25.5\n",
            "GPT2 Accuracy for C6 in Phase 3: 43.5\n",
            "GPT2 Accuracy for C7 in Phase 1: 32.00000000000001\n",
            "GPT2 Accuracy for C7 in Phase 2: 36.00000000000001\n",
            "GPT2 Accuracy for C7 in Phase 3: 45.5\n",
            "GPT2 Accuracy for C8 in Phase 1: 16.5\n",
            "GPT2 Accuracy for C8 in Phase 2: 40.0\n",
            "GPT2 Accuracy for C8 in Phase 3: 42.00000000000001\n",
            "GPT2 Accuracy for C9 in Phase 1: 32.5\n",
            "GPT2 Accuracy for C9 in Phase 2: 70.0\n",
            "GPT2 Accuracy for C9 in Phase 3: 68.5\n"
          ],
          "name": "stdout"
        }
      ]
    }
  ]
}
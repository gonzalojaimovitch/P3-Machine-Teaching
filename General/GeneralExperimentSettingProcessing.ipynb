{
  "nbformat": 4,
  "nbformat_minor": 0,
  "metadata": {
    "colab": {
      "name": "GeneralExperimentSettingProcessing.ipynb",
      "provenance": [],
      "collapsed_sections": [],
      "include_colab_link": true
    },
    "kernelspec": {
      "name": "python3",
      "display_name": "Python 3"
    }
  },
  "cells": [
    {
      "cell_type": "markdown",
      "metadata": {
        "id": "view-in-github",
        "colab_type": "text"
      },
      "source": [
        "<a href=\"https://colab.research.google.com/github/gonzalojaimovitch/P3-Machine-Teaching/blob/master/GeneralExperimentSettingProcessing.ipynb\" target=\"_parent\"><img src=\"https://colab.research.google.com/assets/colab-badge.svg\" alt=\"Open In Colab\"/></a>"
      ]
    },
    {
      "cell_type": "code",
      "metadata": {
        "id": "Pn09EGtVw8yg",
        "colab_type": "code",
        "colab": {
          "resources": {
            "http://localhost:8080/nbextensions/google.colab/files.js": {
              "data": "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",
              "ok": true,
              "headers": [
                [
                  "content-type",
                  "application/javascript"
                ]
              ],
              "status": 200,
              "status_text": ""
            }
          },
          "base_uri": "https://localhost:8080/",
          "height": 106
        },
        "outputId": "7487a9e1-a02a-4f50-e91b-1d8898a3aab4"
      },
      "source": [
        "#Upload res7.txt file from The Teaching Size P3 Experiments\n",
        " \n",
        "import numpy as np\n",
        "from google.colab import files\n",
        "uploaded = files.upload()"
      ],
      "execution_count": null,
      "outputs": [
        {
          "output_type": "display_data",
          "data": {
            "text/html": [
              "\n",
              "     <input type=\"file\" id=\"files-97b9d148-8e90-4d8b-918f-1e76cfbd520d\" name=\"files[]\" multiple disabled\n",
              "        style=\"border:none\" />\n",
              "     <output id=\"result-97b9d148-8e90-4d8b-918f-1e76cfbd520d\">\n",
              "      Upload widget is only available when the cell has been executed in the\n",
              "      current browser session. Please rerun this cell to enable.\n",
              "      </output>\n",
              "      <script src=\"/nbextensions/google.colab/files.js\"></script> "
            ],
            "text/plain": [
              "<IPython.core.display.HTML object>"
            ]
          },
          "metadata": {
            "tags": []
          }
        },
        {
          "output_type": "stream",
          "text": [
            "Saving filteredprogsTS7Cleaned.txt to filteredprogsTS7Cleaned.txt\n",
            "Saving res7.txt to res7.txt\n"
          ],
          "name": "stdout"
        }
      ]
    },
    {
      "cell_type": "code",
      "metadata": {
        "id": "kT0E-M6RzLNA",
        "colab_type": "code",
        "colab": {}
      },
      "source": [
        "#Upload res7.txt and filteredprogsTS7Cleaned.txt and delete extra information\n",
        "#filteredprogsTS7Cleaned.txt was preprocessed using Query Editor on Microsoft Office Excel\n",
        "\n",
        "res7data = uploaded[\"res7.txt\"].decode(\"utf-8\").split(\"\\n\")\n",
        "filtered7data = uploaded[\"filteredprogsTS7Cleaned.txt\"].decode(\"utf-8\").split(\"\\n\")\n",
        "\n",
        "for i in range(len(res7data)):\n",
        " res7data[i] = res7data[i].split(\":\")\n",
        "\n",
        "del(res7data[0])\n",
        "\n",
        "del(res7data[0])\n",
        "\n",
        "del(res7data[len(res7data)-1])\n",
        "\n",
        "for i in range(len(filtered7data)):\n",
        "  filtered7data[i] = filtered7data[i].replace(\"\\r\",\"\").split(\"\\t\")\n",
        "\n",
        "del(filtered7data[0])\n",
        "\n",
        "del(filtered7data[len(filtered7data)-1])\n",
        "\n",
        "print(res7data)\n",
        "print(filtered7data)\n",
        "\n"
      ],
      "execution_count": null,
      "outputs": []
    },
    {
      "cell_type": "code",
      "metadata": {
        "id": "PXPqgcSGoPsG",
        "colab_type": "code",
        "colab": {}
      },
      "source": [
        "#Create a list (iolist) with the input output pairs from res7.txt and perform some data cleaning\n",
        "\n",
        "iolist = ['']*len(res7data)\n",
        "\n",
        "for i in range(0, len(res7data)):\n",
        "  iolist[i] = res7data[i][1].split(\"),\")\n",
        "  for j in range(0, len(iolist[i])):\n",
        "    iolist[i][j] = iolist[i][j].replace(\"(\",\"\").replace(\")\",\"\").replace(\" \",\"\").replace(\"'\", \"\").split(\",\")\n",
        "    if iolist[i][j] != ['']:\n",
        "      iolist[i][j] = tuple(iolist[i][j])\n",
        "    else:\n",
        "      del iolist[i][j]\n",
        "\n",
        "print(iolist)\n",
        "  "
      ],
      "execution_count": null,
      "outputs": []
    },
    {
      "cell_type": "code",
      "metadata": {
        "id": "sHNZGzp3oRD9",
        "colab_type": "code",
        "colab": {}
      },
      "source": [
        "#Create a list of lists (teachingSet) containing the witnesses for each program, deleting the repeated pairs\n",
        "\n",
        "program = \"\"\n",
        "teachingSet = ['']*len(filtered7data)\n",
        "programSet = ['']*len(filtered7data)\n",
        "witnessSet = ['']*len(filtered7data)\n",
        "\n",
        "#We can assume that when the if condition is true in the third loop, that pair will be part of the witness set. However, there can be more pairs in \n",
        "#the witness set. So this variable will help adding the extra pairs which are part of the witness set\n",
        "\n",
        "witnessSetAdder = [0,0]\n",
        "\n",
        "\n",
        "#Another assumption is that the witness set is composed by the first appereance of the program in the 'res7.txt' file (read last code space comment)\n",
        "for i in range(0, len(filtered7data)):\n",
        "  program = filtered7data[i][0]\n",
        "  for j in range(0, len(res7data)):\n",
        "    #The programs in res7data have an space as the first character. Easier to handle like this (for me :D)\n",
        "    if res7data[j][2] == (\" \" + program):\n",
        "      for k in range(0, len(iolist[j])):\n",
        "        if teachingSet[i] == '':\n",
        "          teachingSet[i] = [iolist[j][k]]\n",
        "          programSet[i] = program\n",
        "          witnessSet[i] = [iolist[j][k]] \n",
        "          witnessSetAdder = [i,j]\n",
        "        else:\n",
        "          if iolist[j][k] not in teachingSet[i]:\n",
        "            teachingSet[i].append(iolist[j][k])\n",
        "            if witnessSetAdder[0] == i and witnessSetAdder[1] == j:\n",
        "              witnessSet[i].append(iolist[j][k])"
      ],
      "execution_count": null,
      "outputs": []
    },
    {
      "cell_type": "code",
      "metadata": {
        "id": "AYryZdQLSEaK",
        "colab_type": "code",
        "colab": {
          "base_uri": "https://localhost:8080/",
          "height": 272
        },
        "outputId": "d010ccd1-26c3-4c30-e76e-33f2c0dbf84f"
      },
      "source": [
        "#Different program lengths in 'res7.txt'\n",
        "\n",
        "for j in range(0, 15):\n",
        "  print(str(j)+ \" \" + str(sum(1 for i in programSet if len(i) == j)))"
      ],
      "execution_count": null,
      "outputs": [
        {
          "output_type": "stream",
          "text": [
            "0 0\n",
            "1 1\n",
            "2 4\n",
            "3 12\n",
            "4 35\n",
            "5 97\n",
            "6 269\n",
            "7 577\n",
            "8 898\n",
            "9 1131\n",
            "10 1031\n",
            "11 643\n",
            "12 268\n",
            "13 96\n",
            "14 0\n"
          ],
          "name": "stdout"
        }
      ]
    },
    {
      "cell_type": "code",
      "metadata": {
        "id": "3BQDbrY88tGU",
        "colab_type": "code",
        "colab": {
          "base_uri": "https://localhost:8080/",
          "height": 299
        },
        "outputId": "bceb3673-5e4a-4cd8-f64c-2c3ced41bcbd"
      },
      "source": [
        "#This block of code can be ignored since it is not (for the moment) relevant. It consists of two plots explaining the number of programs by the size and the\n",
        "#average number of redundant examples by the size of the programs. \n",
        "\n",
        "import matplotlib.pyplot as plt\n",
        "import statistics\n",
        "\n",
        "size = ['']*15\n",
        "number = ['']*15\n",
        "\n",
        "examples = ['']*15\n",
        "\n",
        "counter = []\n",
        "\n",
        "for i in range(0,len(programStratComplete)):\n",
        "  size[i] = i\n",
        "  number[i] = len(programStratComplete[i])\n",
        "\n",
        "  \n",
        "\n",
        "  for i in range(0,len(programStratComplete)):\n",
        "    try:\n",
        "      for j in range(0,len(teachingSet)):\n",
        "        if len(programSet[j]) == i:\n",
        "          counter.append(len(teachingSet[j]))\n",
        "      examples[i] = statistics.mean(counter)\n",
        "      counter = []\n",
        "    except (statistics.StatisticsError):\n",
        "      examples[i] = 0\n",
        "      continue\n",
        "\n",
        "ig, axs = plt.subplots(2)\n",
        "axs[0].plot(size, number)\n",
        "axs[0].set(xlabel = 'Size of programs', ylabel = 'Number of programs')\n",
        "axs[1].plot(size, examples)\n",
        "axs[1].set(xlabel = 'Size of programs', ylabel = 'Redundant Example Average')\n"
      ],
      "execution_count": null,
      "outputs": [
        {
          "output_type": "execute_result",
          "data": {
            "text/plain": [
              "[Text(0, 0.5, 'Redundant Example Average'), Text(0.5, 0, 'Size of programs')]"
            ]
          },
          "metadata": {
            "tags": []
          },
          "execution_count": 21
        },
        {
          "output_type": "display_data",
          "data": {
            "image/png": "[encoded data removed]",
            "text/plain": [
              "<Figure size 432x288 with 2 Axes>"
            ]
          },
          "metadata": {
            "tags": [],
            "needs_background": "light"
          }
        }
      ]
    },
    {
      "cell_type": "code",
      "metadata": {
        "id": "ZY-P2bhMuXHR",
        "colab_type": "code",
        "colab": {}
      },
      "source": [
        "#Delete those programs whose total number of pairs is lower than a given number (minPairsNumber) without considering the witness set\n",
        "\n",
        "length = len(teachingSet)\n",
        "i = 0\n",
        "minPairsNumber = 10\n",
        "\n",
        "while i < length:\n",
        "  if (len(teachingSet[i])-len(witnessSet[i])) < minPairsNumber:\n",
        "    del teachingSet[i]\n",
        "    del programSet[i]\n",
        "    del witnessSet[i]\n",
        "    length = length - 1 \n",
        "  else:\n",
        "    i = i + 1\n",
        "    \n"
      ],
      "execution_count": null,
      "outputs": []
    },
    {
      "cell_type": "code",
      "metadata": {
        "id": "6sk5tNZoqjdo",
        "colab_type": "code",
        "colab": {
          "base_uri": "https://localhost:8080/",
          "height": 289
        },
        "outputId": "1824bae5-8a89-4761-91db-4586e5b76e78"
      },
      "source": [
        "#Check length of programs\n",
        "\n",
        "programStratComplete = [''] * 15\n",
        "\n",
        "print(\"Programs in filteredprogsTS7 with \" + str(minPairsNumber) + \" or more redundant examples\")\n",
        "for i in range(0,len(programStratComplete)):\n",
        "  programStratComplete[i] = []\n",
        "  for j in range(0,len(programSet)):\n",
        "    if len(programSet[j]) == i:\n",
        "      programStratComplete[i].append(programSet[j])\n",
        "  print(\"  Programs with length \" + str(i) + \": \" + str(len(programStratComplete[i])))\n"
      ],
      "execution_count": null,
      "outputs": [
        {
          "output_type": "stream",
          "text": [
            "Programs in filteredprogsTS7 with 10 or more redundant examples\n",
            "  Programs with length 0: 0\n",
            "  Programs with length 1: 1\n",
            "  Programs with length 2: 4\n",
            "  Programs with length 3: 12\n",
            "  Programs with length 4: 22\n",
            "  Programs with length 5: 38\n",
            "  Programs with length 6: 47\n",
            "  Programs with length 7: 29\n",
            "  Programs with length 8: 13\n",
            "  Programs with length 9: 4\n",
            "  Programs with length 10: 0\n",
            "  Programs with length 11: 0\n",
            "  Programs with length 12: 0\n",
            "  Programs with length 13: 0\n",
            "  Programs with length 14: 0\n"
          ],
          "name": "stdout"
        }
      ]
    },
    {
      "cell_type": "code",
      "metadata": {
        "id": "qkX7LU7Eg3jq",
        "colab_type": "code",
        "colab": {
          "base_uri": "https://localhost:8080/",
          "height": 170
        },
        "outputId": "43085b9e-c407-4a9b-80b4-fc56dd298b2b"
      },
      "source": [
        "#Perform the stratified sampling\n",
        "\n",
        "import random\n",
        "\n",
        "###UPDATE!!! (16/07) Finally the requirement of examples is 5 examples and not 10, but since a lot of work has been done with the below sampling and since \n",
        "#there will be bias anyway, the first results are maintained\n",
        "\n",
        "totalProgLengths = 9\n",
        "\n",
        "expProgsNum = 9\n",
        "\n",
        "seed = 23\n",
        "\n",
        "sample = []\n",
        "\n",
        "\n",
        "for i in range(1,expProgsNum + 1):\n",
        "  random.seed(seed)\n",
        "  sample.append(programStratComplete[i][random.randint(0,len(programStratComplete[i])-1)])\n",
        "\n",
        "\n",
        "#Create a list with all the sampleNum programs sampled for the experiment\n",
        "\n",
        "for i in range(1, expProgsNum + 1):\n",
        "  probability = (1/totalProgLengths)*(1/len(programStratComplete[i]))\n",
        "  #probability = (1/len(programStratComplete[i]))*(len(programStratComplete[i])/len(filtered7data)))\n",
        "  print(\"Program with length \" + str(i) +\": \"+ str(sample[i-1])+\"   Probability = \" + str(probability))"
      ],
      "execution_count": null,
      "outputs": [
        {
          "output_type": "stream",
          "text": [
            "Program with length 1: o   Probability = 0.1111111111111111\n",
            "Program with length 2: >o   Probability = 0.027777777777777776\n",
            "Program with length 3: >+o   Probability = 0.009259259259259259\n",
            "Program with length 4: o+oo   Probability = 0.00505050505050505\n",
            "Program with length 5: >>>-o   Probability = 0.0029239766081871343\n",
            "Program with length 6: >-[o<]   Probability = 0.002364066193853428\n",
            "Program with length 7: -[-<]>o   Probability = 0.0038314176245210726\n",
            "Program with length 8: +[>+o<+]   Probability = 0.008547008547008548\n",
            "Program with length 9: -[-[o<-]]   Probability = 0.027777777777777776\n"
          ],
          "name": "stdout"
        }
      ]
    },
    {
      "cell_type": "code",
      "metadata": {
        "id": "U3ZDxFPOlAtP",
        "colab_type": "code",
        "colab": {}
      },
      "source": [
        "#Show the obtained results in an aggregated manner (down below the information will be disaggregated)\n",
        "\n",
        "resultsList = [\"\"]*len(sample)\n",
        "\n",
        "for i in range(0, len(sample)):\n",
        "  for j in range(0, len(programSet)):\n",
        "    if programSet[j] == sample[i]:\n",
        "      resultsList[i] = [i+1, programSet[j],witnessSet[j],teachingSet[j]]\n"
      ],
      "execution_count": null,
      "outputs": []
    },
    {
      "cell_type": "code",
      "metadata": {
        "id": "mO52Hsd68sW8",
        "colab_type": "code",
        "colab": {
          "base_uri": "https://localhost:8080/",
          "height": 224
        },
        "outputId": "62cf29e7-184c-49c8-9d32-8c3e964b7ae6"
      },
      "source": [
        "#In some cases, the witness set in the file 'filteredprogsTS7.txt' matches the witness set linked to the first program appereance in the \n",
        "#'res7.txt' file. Nonetheless, there are some cases where this assumption doesn't happen. For instance:\n",
        "\n",
        "#Program: >>0\n",
        "#Witness set (according to 'filteredprogsTS7.txt'): (('010', '0'), ('1', ''))\n",
        "#Witness set (according to the first 'res7.txt' file appereance assumption): (('0', ''), ('010', '0'))\n",
        "\n",
        "#Finally I stayed with the first appereance from 'res7.txt'\n",
        "\n",
        "#!!!!!!!!!!!!!!!!\n",
        "#In 'res7.txt', when one of these cases appears: (('', '0'),)... I was treating the right side of the comma or the second element of the main tuple as \n",
        "#('',). This is such a mistake, since for example, in the case of program '+ooo', the code found (('', '000'), ('',)) as the witness set, which is a \n",
        "#contradiction. The solution is added 26/6\n",
        "\n",
        "\n",
        "from tabulate import tabulate\n",
        "print(tabulate(resultsList, headers=['Number','Program', 'Witness Set ', 'Teaching Set']))"
      ],
      "execution_count": null,
      "outputs": [
        {
          "output_type": "stream",
          "text": [
            "  Number  Program    Witness Set                          Teaching Set\n",
            "--------  ---------  -----------------------------------  ------------------------------------------------------------------------------------------------------------------------------------------------------------------------------------------------------------------------------------------------------------------------------------------------------------------------------------------------------------------------------------------------------------------------------------------------------------------------------------------------------------------------------------------------------------------------------------------------------------------------------------------------------------------------------------------------------------------------------------------------------------------------------------------------------------------------------------------------------------------------------------------------------------------------------------------------------------------------------------------------------------------------------------------------------------------------------------------------------------------------------------------------------------------------------------------------------------------------------------------------------------------------------------------------------------------------------------------------------------------------------------------------------------------------------------------------------------------------------------------------------------------------------------------------------------------------------------------------------------------------------------------------------------------------------------------------------------------------------------------------------------------------------------------------------------------------------------------------------------------------------------------------------------------------------------------------------------------------------------------------------------------------------------------------------------------------------------------------------------\n",
            "       1  o          [('0', '0')]                         [('0', '0'), ('1', '1'), ('00', '0'), ('01', '0'), ('10', '1'), ('11', '1'), ('000', '0'), ('001', '0'), ('010', '0'), ('011', '0'), ('100', '1'), ('101', '1'), ('110', '1'), ('111', '1'), ('0000', '0'), ('0001', '0'), ('0010', '0'), ('0011', '0'), ('0100', '0'), ('0101', '0'), ('0110', '0'), ('0111', '0'), ('1000', '1'), ('1001', '1'), ('1010', '1'), ('1011', '1'), ('1100', '1'), ('1101', '1'), ('1110', '1'), ('1111', '1'), ('00000', '0'), ('00001', '0'), ('00010', '0'), ('00011', '0'), ('00100', '0'), ('00101', '0'), ('00110', '0'), ('00111', '0'), ('01000', '0'), ('01001', '0'), ('01010', '0'), ('01011', '0'), ('01100', '0'), ('01101', '0'), ('01110', '0'), ('01111', '0'), ('10000', '1'), ('10001', '1'), ('10010', '1'), ('10011', '1'), ('10100', '1'), ('10101', '1'), ('10110', '1'), ('10111', '1'), ('11000', '1'), ('11001', '1'), ('11010', '1'), ('11011', '1'), ('11100', '1'), ('11101', '1'), ('11110', '1'), ('11111', '1'), ('000000', '0'), ('000001', '0'), ('000010', '0'), ('000011', '0'), ('000100', '0'), ('000101', '0'), ('000110', '0'), ('000111', '0'), ('001000', '0'), ('001001', '0'), ('001010', '0'), ('001011', '0'), ('001100', '0'), ('001101', '0'), ('001110', '0'), ('001111', '0'), ('010000', '0'), ('010001', '0'), ('010010', '0'), ('010011', '0'), ('010100', '0'), ('010101', '0'), ('010110', '0'), ('010111', '0'), ('011000', '0'), ('011001', '0'), ('011010', '0'), ('011011', '0'), ('011100', '0'), ('011101', '0'), ('011110', '0'), ('011111', '0'), ('100000', '1'), ('100001', '1'), ('100010', '1'), ('100011', '1'), ('100100', '1'), ('100101', '1'), ('100110', '1'), ('100111', '1'), ('101000', '1'), ('101001', '1'), ('101010', '1'), ('101011', '1'), ('101100', '1'), ('101101', '1'), ('101110', '1'), ('101111', '1'), ('110000', '1'), ('110001', '1'), ('110010', '1'), ('110011', '1'), ('110100', '1'), ('110101', '1'), ('110110', '1'), ('110111', '1'), ('111000', '1'), ('111001', '1'), ('111010', '1'), ('111011', '1'), ('111100', '1'), ('111101', '1'), ('111110', '1'), ('111111', '1')]\n",
            "       2  >o         [('10', '0')]                        [('10', '0'), ('01', '1'), ('0', ''), ('00', '0'), ('11', '1'), ('1', ''), ('100', '0'), ('101', '0'), ('010', '1'), ('011', '1'), ('000', '0'), ('001', '0'), ('110', '1'), ('111', '1'), ('1000', '0'), ('1001', '0'), ('1010', '0'), ('1011', '0'), ('0100', '1'), ('0101', '1'), ('0110', '1'), ('0111', '1'), ('0000', '0'), ('0001', '0'), ('0010', '0'), ('0011', '0'), ('1100', '1'), ('1101', '1'), ('1110', '1'), ('1111', '1'), ('10000', '0'), ('10001', '0'), ('10010', '0'), ('10011', '0'), ('10100', '0'), ('10101', '0'), ('10110', '0'), ('10111', '0'), ('01000', '1'), ('01001', '1'), ('01010', '1'), ('01011', '1'), ('01100', '1'), ('01101', '1'), ('01110', '1'), ('01111', '1'), ('00000', '0'), ('00001', '0'), ('00010', '0'), ('00011', '0'), ('00100', '0'), ('00101', '0'), ('00110', '0'), ('00111', '0'), ('11000', '1'), ('11001', '1'), ('11010', '1'), ('11011', '1'), ('11100', '1'), ('11101', '1'), ('11110', '1'), ('11111', '1'), ('100000', '0'), ('100001', '0'), ('100010', '0'), ('100011', '0'), ('100100', '0'), ('100101', '0'), ('100110', '0'), ('100111', '0'), ('101000', '0'), ('101001', '0'), ('101010', '0'), ('101011', '0'), ('101100', '0'), ('101101', '0'), ('101110', '0'), ('101111', '0'), ('010000', '1'), ('010001', '1'), ('010010', '1'), ('010011', '1'), ('010100', '1'), ('010101', '1'), ('010110', '1'), ('010111', '1'), ('011000', '1'), ('011001', '1'), ('011010', '1'), ('011011', '1'), ('011100', '1'), ('011101', '1'), ('011110', '1'), ('011111', '1')]\n",
            "       3  >+o        [('', '0'), ('01', '')]              [('', '0'), ('01', ''), ('0', '0'), ('1', '0'), ('010', ''), ('011', ''), ('10', '1'), ('11', ''), ('0100', ''), ('0101', ''), ('0110', ''), ('0111', ''), ('100', '1'), ('101', '1'), ('00', '1'), ('110', ''), ('111', ''), ('01000', ''), ('01001', ''), ('01010', ''), ('01011', ''), ('01100', ''), ('01101', ''), ('01110', ''), ('01111', ''), ('1000', '1'), ('1001', '1'), ('1010', '1'), ('1011', '1'), ('000', '1'), ('1100', ''), ('1101', ''), ('1110', ''), ('1111', ''), ('001', '1'), ('010000', ''), ('010001', ''), ('010010', ''), ('010011', ''), ('010100', ''), ('010101', ''), ('010110', ''), ('010111', ''), ('011000', ''), ('011001', ''), ('011010', ''), ('011011', ''), ('011100', ''), ('011101', ''), ('011110', ''), ('011111', ''), ('10000', '1'), ('10001', '1'), ('10010', '1'), ('10011', '1'), ('10100', '1'), ('10101', '1'), ('10110', '1'), ('10111', '1'), ('0000', '1'), ('0001', '1'), ('11000', ''), ('11001', ''), ('11010', ''), ('11011', ''), ('11100', ''), ('11101', ''), ('11110', ''), ('11111', ''), ('0010', '1'), ('0011', '1')]\n",
            "       4  o+oo       [('0', '011')]                       [('0', '011'), ('00', '011'), ('000', '011'), ('001', '011'), ('1', '1'), ('10', '1'), ('11', '1'), ('0000', '011'), ('0001', '011'), ('0010', '011'), ('0011', '011')]\n",
            "       5  >>>-o      [('', '1'), ('1110', '')]            [('', '1'), ('1110', ''), ('11100', ''), ('11101', ''), ('0001', '0'), ('0', '1'), ('0110', ''), ('1', '1'), ('00', '1'), ('0010', ''), ('01', '1'), ('10', '1'), ('1010', ''), ('11', '1'), ('111000', ''), ('111001', ''), ('111010', ''), ('111011', ''), ('00010', '0'), ('00011', '0'), ('01100', ''), ('01101', ''), ('1001', '0')]\n",
            "       6  >-[o<]     [('0', '10'), ('00', '')]            [('0', '10'), ('00', ''), ('000', ''), ('', '1'), ('1', '11'), ('10', ''), ('11', '01'), ('101', ''), ('0000', ''), ('0001', ''), ('01', '00'), ('001', ''), ('100', '')]\n",
            "       7  -[-<]>o    [('', '0'), ('0', ''), ('00', '0')]  [('', '0'), ('0', ''), ('00', '0'), ('01', '1'), ('000', '0'), ('001', '0'), ('010', '1'), ('011', '1'), ('1', ''), ('10', ''), ('11', ''), ('0000', '0'), ('0001', '0'), ('0010', '0'), ('0011', '0'), ('0100', '1'), ('0101', '1'), ('0110', '1'), ('0111', '1')]\n",
            "       8  +[>+o<+]   [('', '01'), ('01', ''), ('1', '')]  [('', '01'), ('01', ''), ('1', ''), ('0', '0'), ('10', ''), ('010', ''), ('011', ''), ('11', ''), ('0100', ''), ('0101', ''), ('0110', ''), ('0111', ''), ('100', ''), ('101', '')]\n",
            "       9  -[-[o<-]]  [('', '010'), ('0', ''), ('1', '')]  [('', '010'), ('0', ''), ('1', ''), ('10', ''), ('11', ''), ('00', ''), ('01', ''), ('100', ''), ('101', ''), ('110', ''), ('111', ''), ('000', ''), ('001', ''), ('010', ''), ('011', '')]\n"
          ],
          "name": "stdout"
        }
      ]
    },
    {
      "cell_type": "code",
      "metadata": {
        "id": "rtJ6xsrXfnpe",
        "colab_type": "code",
        "colab": {
          "base_uri": "https://localhost:8080/",
          "height": 190
        },
        "outputId": "09a31504-7e90-4278-e59d-9ac0661e4d3c"
      },
      "source": [
        "#Choose randomly the examples of the Teaching Set (without considering the witness set) that will be part of the additional examples or the examples to label\n",
        "#in the experiment. \n",
        "\n",
        "#UPDATE!!! (16/07) Finally the example to label or test examples will not be retrieved from 'res7t.txt'. As explained above, the project was in such an advanced\n",
        "#phase when this change was decided, so this procedure will not be modified to addapt it for just 5 randomly sampled examples. Anyway, the 5 examples will be \n",
        "#chosen randomly, which is the desired way to proceed. \n",
        "\n",
        "#10 examples will be randomly chosen from the Teaching Set. After that, 5 examples will be chosen out of the 10 sampled examples and will be part of the \n",
        "#additional learning examples for the experiment. \n",
        "\n",
        "#First, the witnessSet must be deleted before doing the sampling\n",
        "for i in range(0, len(resultsList)):\n",
        "  length = len(resultsList[i][3])\n",
        "  j = 0\n",
        "  while j < length:\n",
        "    if resultsList[i][3][j] in resultsList[i][2]:\n",
        "      del resultsList[i][3][j]\n",
        "      length = length - 1\n",
        "    else:\n",
        "      j = j + 1\n",
        "  print(resultsList[i][3])\n",
        "    \n",
        "\n",
        "numExamples = 10\n",
        "\n",
        "teachingSet = 5\n",
        "\n",
        "teachingSet1 = 2\n",
        "\n",
        "teachingSet2 = 3\n",
        "\n",
        "unlabeledSet = 5\n",
        "\n",
        "#sampledExampleSet will be formed by the 10 randomly sampled examples from the teachingSet without considering the witnessSet before they are separated into\n",
        "#redundant/test examples\n",
        "sampledExampleSet = ['']*len(resultsList)\n",
        "\n",
        "#sampledTeachingSet will be formed by the 5 examples from the Teaching Set which will be part of the additional examples. Then, they are separared into \n",
        "#the two first additional examples and the three second additional examples (sampledTeachingSet1 and sampledTeachingSet2)\n",
        "sampledTeachingSet = ['']*len(resultsList)\n",
        "sampledTeachingSet1 = ['']*len(resultsList)\n",
        "sampledTeachingSet2 = ['']*len(resultsList)\n",
        "\n",
        "#sampledUnlabeledSet will be formed by the 5 examples from the Teaching Set which will be part of the unlabeled examples\n",
        "sampledUnlabeledSet = ['']*len(resultsList)\n",
        "\n",
        "import random\n",
        "\n",
        "seed = 23\n",
        "\n",
        "\n",
        "for i in range(0, len(resultsList)):\n",
        "  random.seed(seed)\n",
        "  sampledExampleSet[i] = random.sample(resultsList[i][3],k=numExamples)\n",
        "  random.seed(seed)\n",
        "  sampledTeachingSet[i] = random.sample(sampledExampleSet[i], k=teachingSet)\n",
        "  random.seed(seed)\n",
        "  sampledTeachingSet1[i] = random.sample(sampledTeachingSet[i], k=teachingSet1)\n",
        "\n",
        "  sampledTeachingSet2[i] = list(set(sampledTeachingSet[i])-set(sampledTeachingSet1[i]))\n",
        "  sampledUnlabeledSet[i] = list(set(sampledExampleSet[i])-set(sampledTeachingSet[i]))\n",
        "\n",
        "#Printed results are the population of 'res7.txt' witness sets for each concept eliminating the first appereance (which will be used as the final witness set)"
      ],
      "execution_count": null,
      "outputs": [
        {
          "output_type": "stream",
          "text": [
            "[('1', '1'), ('00', '0'), ('01', '0'), ('10', '1'), ('11', '1'), ('000', '0'), ('001', '0'), ('010', '0'), ('011', '0'), ('100', '1'), ('101', '1'), ('110', '1'), ('111', '1'), ('0000', '0'), ('0001', '0'), ('0010', '0'), ('0011', '0'), ('0100', '0'), ('0101', '0'), ('0110', '0'), ('0111', '0'), ('1000', '1'), ('1001', '1'), ('1010', '1'), ('1011', '1'), ('1100', '1'), ('1101', '1'), ('1110', '1'), ('1111', '1'), ('00000', '0'), ('00001', '0'), ('00010', '0'), ('00011', '0'), ('00100', '0'), ('00101', '0'), ('00110', '0'), ('00111', '0'), ('01000', '0'), ('01001', '0'), ('01010', '0'), ('01011', '0'), ('01100', '0'), ('01101', '0'), ('01110', '0'), ('01111', '0'), ('10000', '1'), ('10001', '1'), ('10010', '1'), ('10011', '1'), ('10100', '1'), ('10101', '1'), ('10110', '1'), ('10111', '1'), ('11000', '1'), ('11001', '1'), ('11010', '1'), ('11011', '1'), ('11100', '1'), ('11101', '1'), ('11110', '1'), ('11111', '1'), ('000000', '0'), ('000001', '0'), ('000010', '0'), ('000011', '0'), ('000100', '0'), ('000101', '0'), ('000110', '0'), ('000111', '0'), ('001000', '0'), ('001001', '0'), ('001010', '0'), ('001011', '0'), ('001100', '0'), ('001101', '0'), ('001110', '0'), ('001111', '0'), ('010000', '0'), ('010001', '0'), ('010010', '0'), ('010011', '0'), ('010100', '0'), ('010101', '0'), ('010110', '0'), ('010111', '0'), ('011000', '0'), ('011001', '0'), ('011010', '0'), ('011011', '0'), ('011100', '0'), ('011101', '0'), ('011110', '0'), ('011111', '0'), ('100000', '1'), ('100001', '1'), ('100010', '1'), ('100011', '1'), ('100100', '1'), ('100101', '1'), ('100110', '1'), ('100111', '1'), ('101000', '1'), ('101001', '1'), ('101010', '1'), ('101011', '1'), ('101100', '1'), ('101101', '1'), ('101110', '1'), ('101111', '1'), ('110000', '1'), ('110001', '1'), ('110010', '1'), ('110011', '1'), ('110100', '1'), ('110101', '1'), ('110110', '1'), ('110111', '1'), ('111000', '1'), ('111001', '1'), ('111010', '1'), ('111011', '1'), ('111100', '1'), ('111101', '1'), ('111110', '1'), ('111111', '1')]\n",
            "[('01', '1'), ('0', ''), ('00', '0'), ('11', '1'), ('1', ''), ('100', '0'), ('101', '0'), ('010', '1'), ('011', '1'), ('000', '0'), ('001', '0'), ('110', '1'), ('111', '1'), ('1000', '0'), ('1001', '0'), ('1010', '0'), ('1011', '0'), ('0100', '1'), ('0101', '1'), ('0110', '1'), ('0111', '1'), ('0000', '0'), ('0001', '0'), ('0010', '0'), ('0011', '0'), ('1100', '1'), ('1101', '1'), ('1110', '1'), ('1111', '1'), ('10000', '0'), ('10001', '0'), ('10010', '0'), ('10011', '0'), ('10100', '0'), ('10101', '0'), ('10110', '0'), ('10111', '0'), ('01000', '1'), ('01001', '1'), ('01010', '1'), ('01011', '1'), ('01100', '1'), ('01101', '1'), ('01110', '1'), ('01111', '1'), ('00000', '0'), ('00001', '0'), ('00010', '0'), ('00011', '0'), ('00100', '0'), ('00101', '0'), ('00110', '0'), ('00111', '0'), ('11000', '1'), ('11001', '1'), ('11010', '1'), ('11011', '1'), ('11100', '1'), ('11101', '1'), ('11110', '1'), ('11111', '1'), ('100000', '0'), ('100001', '0'), ('100010', '0'), ('100011', '0'), ('100100', '0'), ('100101', '0'), ('100110', '0'), ('100111', '0'), ('101000', '0'), ('101001', '0'), ('101010', '0'), ('101011', '0'), ('101100', '0'), ('101101', '0'), ('101110', '0'), ('101111', '0'), ('010000', '1'), ('010001', '1'), ('010010', '1'), ('010011', '1'), ('010100', '1'), ('010101', '1'), ('010110', '1'), ('010111', '1'), ('011000', '1'), ('011001', '1'), ('011010', '1'), ('011011', '1'), ('011100', '1'), ('011101', '1'), ('011110', '1'), ('011111', '1')]\n",
            "[('0', '0'), ('1', '0'), ('010', ''), ('011', ''), ('10', '1'), ('11', ''), ('0100', ''), ('0101', ''), ('0110', ''), ('0111', ''), ('100', '1'), ('101', '1'), ('00', '1'), ('110', ''), ('111', ''), ('01000', ''), ('01001', ''), ('01010', ''), ('01011', ''), ('01100', ''), ('01101', ''), ('01110', ''), ('01111', ''), ('1000', '1'), ('1001', '1'), ('1010', '1'), ('1011', '1'), ('000', '1'), ('1100', ''), ('1101', ''), ('1110', ''), ('1111', ''), ('001', '1'), ('010000', ''), ('010001', ''), ('010010', ''), ('010011', ''), ('010100', ''), ('010101', ''), ('010110', ''), ('010111', ''), ('011000', ''), ('011001', ''), ('011010', ''), ('011011', ''), ('011100', ''), ('011101', ''), ('011110', ''), ('011111', ''), ('10000', '1'), ('10001', '1'), ('10010', '1'), ('10011', '1'), ('10100', '1'), ('10101', '1'), ('10110', '1'), ('10111', '1'), ('0000', '1'), ('0001', '1'), ('11000', ''), ('11001', ''), ('11010', ''), ('11011', ''), ('11100', ''), ('11101', ''), ('11110', ''), ('11111', ''), ('0010', '1'), ('0011', '1')]\n",
            "[('00', '011'), ('000', '011'), ('001', '011'), ('1', '1'), ('10', '1'), ('11', '1'), ('0000', '011'), ('0001', '011'), ('0010', '011'), ('0011', '011')]\n",
            "[('11100', ''), ('11101', ''), ('0001', '0'), ('0', '1'), ('0110', ''), ('1', '1'), ('00', '1'), ('0010', ''), ('01', '1'), ('10', '1'), ('1010', ''), ('11', '1'), ('111000', ''), ('111001', ''), ('111010', ''), ('111011', ''), ('00010', '0'), ('00011', '0'), ('01100', ''), ('01101', ''), ('1001', '0')]\n",
            "[('000', ''), ('', '1'), ('1', '11'), ('10', ''), ('11', '01'), ('101', ''), ('0000', ''), ('0001', ''), ('01', '00'), ('001', ''), ('100', '')]\n",
            "[('01', '1'), ('000', '0'), ('001', '0'), ('010', '1'), ('011', '1'), ('1', ''), ('10', ''), ('11', ''), ('0000', '0'), ('0001', '0'), ('0010', '0'), ('0011', '0'), ('0100', '1'), ('0101', '1'), ('0110', '1'), ('0111', '1')]\n",
            "[('0', '0'), ('10', ''), ('010', ''), ('011', ''), ('11', ''), ('0100', ''), ('0101', ''), ('0110', ''), ('0111', ''), ('100', ''), ('101', '')]\n",
            "[('10', ''), ('11', ''), ('00', ''), ('01', ''), ('100', ''), ('101', ''), ('110', ''), ('111', ''), ('000', ''), ('001', ''), ('010', ''), ('011', '')]\n"
          ],
          "name": "stdout"
        }
      ]
    },
    {
      "cell_type": "code",
      "metadata": {
        "id": "ws3f9WUtyngX",
        "colab_type": "code",
        "colab": {
          "base_uri": "https://localhost:8080/",
          "height": 224
        },
        "outputId": "6658cb26-adcd-4068-ca44-07d859f179da"
      },
      "source": [
        "#Disaggregation of the Teaching Set from resultsList after the sampling. Remember that the 'Unlabeled Set' will not be used as the test examples\n",
        "\n",
        "resultsList2 = [\"\"]*len(resultsList)\n",
        "\n",
        "for i in range(0, len(resultsList2)):\n",
        "  resultsList2[i] = [resultsList[i][0], resultsList[i][1], resultsList[i][2], sampledTeachingSet1[i], sampledTeachingSet2[i], sampledUnlabeledSet[i]]\n",
        "\n",
        "from tabulate import tabulate\n",
        "print(tabulate(resultsList2, headers=['Number','Program', 'Witness Set', 'Teaching Set 1', 'Teaching Set 2', 'Unlabeled Set']))\n"
      ],
      "execution_count": null,
      "outputs": [
        {
          "output_type": "stream",
          "text": [
            "  Number  Program    Witness Set                          Teaching Set 1                      Teaching Set 2                                      Unlabeled Set\n",
            "--------  ---------  -----------------------------------  ----------------------------------  --------------------------------------------------  ----------------------------------------------------------------------------------\n",
            "       1  o          [('0', '0')]                         [('111001', '1'), ('110101', '1')]  [('100110', '1'), ('01010', '0'), ('111100', '1')]  [('101', '1'), ('01', '0'), ('101101', '1'), ('001110', '0'), ('01000', '0')]\n",
            "       2  >o         [('10', '0')]                        [('01000', '1'), ('01010', '1')]    [('1011', '0'), ('00', '0'), ('001', '0')]          [('00011', '0'), ('11001', '1'), ('00000', '0'), ('100110', '0'), ('101110', '0')]\n",
            "       3  >+o        [('', '0'), ('01', '')]              [('010100', ''), ('10101', '1')]    [('010', ''), ('100', '1'), ('011101', '')]         [('010110', ''), ('01111', ''), ('011111', ''), ('010000', ''), ('0110', '')]\n",
            "       4  o+oo       [('0', '011')]                       [('10', '1'), ('001', '011')]       [('00', '011'), ('0001', '011'), ('000', '011')]    [('1', '1'), ('0011', '011'), ('0000', '011'), ('0010', '011'), ('11', '1')]\n",
            "       5  >>>-o      [('', '1'), ('1110', '')]            [('10', '1'), ('111001', '')]       [('11', '1'), ('11100', ''), ('0001', '0')]         [('1', '1'), ('1001', '0'), ('111000', ''), ('01', '1'), ('01101', '')]\n",
            "       6  >-[o<]     [('0', '10'), ('00', '')]            [('11', '01'), ('10', '')]          [('101', ''), ('', '1'), ('000', '')]               [('0001', ''), ('01', '00'), ('100', ''), ('1', '11'), ('0000', '')]\n",
            "       7  -[-<]>o    [('', '0'), ('0', ''), ('00', '0')]  [('0001', '0'), ('01', '1')]        [('0101', '1'), ('0010', '0'), ('0110', '1')]       [('0111', '1'), ('0000', '0'), ('011', '1'), ('000', '0'), ('10', '')]\n",
            "       8  +[>+o<+]   [('', '01'), ('01', ''), ('1', '')]  [('11', ''), ('011', '')]           [('10', ''), ('0', '0'), ('0100', '')]              [('101', ''), ('0101', ''), ('0110', ''), ('010', ''), ('0111', '')]\n",
            "       9  -[-[o<-]]  [('', '010'), ('0', ''), ('1', '')]  [('100', ''), ('110', '')]          [('101', ''), ('10', ''), ('11', '')]               [('000', ''), ('00', ''), ('011', ''), ('010', ''), ('01', '')]\n"
          ],
          "name": "stdout"
        }
      ]
    },
    {
      "cell_type": "code",
      "metadata": {
        "id": "r6KtkpLAgH78",
        "colab_type": "code",
        "colab": {
          "base_uri": "https://localhost:8080/",
          "height": 170
        },
        "outputId": "216f8715-36c7-423e-f1db-015f6adce32f"
      },
      "source": [
        "import math\n",
        "import random\n",
        "from copy import deepcopy\n",
        "\n",
        "def generate_binary2(n):\n",
        "\n",
        "  # 2^(n-1)  2^n - 1 inclusive\n",
        "  bin_arr = range(0, int(math.pow(2,n)))\n",
        "  bin_arr = [bin(i)[2:] for i in bin_arr]\n",
        "\n",
        "  # Prepending 0's to binary strings\n",
        "  max_len = len(max(bin_arr, key=len))\n",
        "  bin_arr = [i.zfill(max_len) for i in bin_arr]\n",
        "\n",
        "  return bin_arr\n",
        "\n",
        "#population includes the different strings formed by 0s and 1s from lengths 0 to 7. For example, '0' or '000' or '01111'\n",
        "\n",
        "numMax = 5\n",
        "\n",
        "population = ['']\n",
        "\n",
        "resultsList2Input = deepcopy(resultsList2)\n",
        "\n",
        "#This loop will create the chosen population for the test examples. In this case, all the possible 0s and 1s strings with the maximum lenght of 'numMax'\n",
        "\n",
        "\n",
        "for i in range(0, numMax):\n",
        "  population = population + generate_binary2((i + 1))\n",
        "\n",
        "\n",
        "#The following loops will get the [0] element of the tuple (a.k.a the input of the examples)\n",
        "\n",
        "\n",
        "for i in range(0, len(resultsList2Input)):\n",
        "  for j in range(0, len(resultsList2Input[i][2])):\n",
        "    resultsList2Input[i][2][j] = resultsList2Input[i][2][j][0]\n",
        "\n",
        "  for j in range(0, len(resultsList2Input[i][3])):\n",
        "    resultsList2Input[i][3][j] = resultsList2Input[i][3][j][0]\n",
        "\n",
        "  for j in range(0, len(resultsList2Input[i][4])):\n",
        "    resultsList2Input[i][4][j] = resultsList2Input[i][4][j][0]\n",
        "\n",
        "\n",
        "#After submitting the form v2 I realized that the 'difference' operation over the sets can vary the order of the list obtained, so even if the seed is fixed, the\n",
        "#results will vary depending on the moment of the execution. So I comment the last loop assuming the results are the ones handwritten.\n",
        "\n",
        "seed = 23\n",
        "\n",
        "#for i in range(0, len(resultsList2Input)):\n",
        "# random.seed(seed)\n",
        "# resultsList2Input[i][5] = random.sample(list(set(population)-set(resultsList2Input[i][2]+resultsList2Input[i][3]+resultsList2Input[i][4])),numMax)\n",
        "# print('Test Examples C' + str(i + 1) + ': ' + str(resultsList2Input[i][5]))\n",
        "\n",
        "resultsList2Input[0][5] = ['00000', '11100', '00111', '11010', '0010']\n",
        "resultsList2Input[1][5] = ['01011', '0101', '0010', '100', '1']\n",
        "resultsList2Input[2][5] = ['00010', '110', '00111', '11000', '101']\n",
        "resultsList2Input[3][5] = ['01011', '0101', '0010', '100', '1']\n",
        "resultsList2Input[4][5] = ['01011', '110', '0010', '101', '1000']\n",
        "resultsList2Input[5][5] = ['01', '0000', '00011', '0011', '1000']\n",
        "resultsList2Input[6][5] = ['01011', '0000', '00000','100', '1000']\n",
        "resultsList2Input[7][5] = ['10101', '11101', '00000', '0011', '1111']\n",
        "resultsList2Input[8][5] = ['10101', '0100', '00000', '01000', '1111']\n",
        "\n",
        "for i in range(0, len(resultsList2Input)):\n",
        "  print('Test Examples C' + str(i + 1) + ': ' + str(resultsList2Input[i][5]))\n",
        "\n"
      ],
      "execution_count": null,
      "outputs": [
        {
          "output_type": "stream",
          "text": [
            "Test Examples C1: ['00000', '11100', '00111', '11010', '0010']\n",
            "Test Examples C2: ['01011', '0101', '0010', '100', '1']\n",
            "Test Examples C3: ['00010', '110', '00111', '11000', '101']\n",
            "Test Examples C4: ['01011', '0101', '0010', '100', '1']\n",
            "Test Examples C5: ['01011', '110', '0010', '101', '1000']\n",
            "Test Examples C6: ['01', '0000', '00011', '0011', '1000']\n",
            "Test Examples C7: ['01011', '0000', '00000', '100', '1000']\n",
            "Test Examples C8: ['10101', '11101', '00000', '0011', '1111']\n",
            "Test Examples C9: ['10101', '0100', '00000', '01000', '1111']\n"
          ],
          "name": "stdout"
        }
      ]
    },
    {
      "cell_type": "code",
      "metadata": {
        "id": "S5FTFpsHmrvi",
        "colab_type": "code",
        "colab": {
          "base_uri": "https://localhost:8080/",
          "height": 170
        },
        "outputId": "e2e7588a-582a-444d-ba11-3b005124aaa8"
      },
      "source": [
        "#Get the outputs of the test examples using the P3 Simulator\n",
        "\n",
        "alphabet = {'1','0','.'};\n",
        "operators = {'<','>','+','-','o','[',']'}\n",
        " \n",
        "inList = []\n",
        "progList = []\n",
        " \n",
        "inPointer = 0\n",
        "progPointer = 0\n",
        " \n",
        "output = ''\n",
        "\n",
        "def runP3(input, program):\n",
        " \n",
        "  #Check if the values given are correct \n",
        "  checkInput(input)\n",
        "  checkProgram(program)\n",
        " \n",
        "  #Create lists \n",
        "  if input == '':\n",
        "    inList = ['.']\n",
        "  else:\n",
        "    inList = list(input)\n",
        " \n",
        "  progList = list(program)\n",
        " \n",
        "  #Initialize pointers\n",
        "  inPointer = 0\n",
        "  progPointer = 0\n",
        "\n",
        "  #Initialize left padding controller\n",
        "  leftPad = False\n",
        " \n",
        "  output = ''\n",
        " \n",
        "  #Start!\n",
        " \n",
        "  while(True):\n",
        " \n",
        "    #Check if program ends\n",
        "    if progPointer > (len(progList)-1):\n",
        "      return output\n",
        " \n",
        "    pointedOp = progList[progPointer]\n",
        " \n",
        "    #Choose Instruction\n",
        "    if pointedOp == \"<\":\n",
        " \n",
        "      if inPointer > 0:        \n",
        "        inPointer = inPointer - 1\n",
        "      elif leftPad == False:\n",
        "        #Not necessary to change the pointer since it will stay as 0\n",
        "        inList.insert(0,'.')\n",
        "        leftPad = True\n",
        "      progPointer = progPointer + 1    \n",
        " \n",
        " \n",
        "    elif pointedOp == \">\":\n",
        " \n",
        "      if inPointer < (len(inList) - 1):\n",
        "        inPointer = inPointer + 1\n",
        "      else:\n",
        "        inList.append('.')\n",
        "        inPointer = inPointer + 1\n",
        " \n",
        "      progPointer = progPointer + 1\n",
        " \n",
        " \n",
        "    elif pointedOp == \"+\":\n",
        " \n",
        "      val = inList[inPointer]\n",
        " \n",
        "      if val == '0':\n",
        "        inList[inPointer]='1'\n",
        "      elif val == '1':\n",
        "        inList[inPointer]='.'\n",
        "      else: inList[inPointer]='0' \n",
        " \n",
        "      progPointer = progPointer + 1\n",
        " \n",
        " \n",
        "    elif pointedOp == \"-\":\n",
        " \n",
        "      val = inList[inPointer]\n",
        " \n",
        "      if val == '0':\n",
        "        inList[inPointer]='.'\n",
        "      elif val == '1':\n",
        "        inList[inPointer]='0'\n",
        "      else: inList[inPointer]='1'\n",
        " \n",
        "      progPointer = progPointer + 1\n",
        " \n",
        "        \n",
        "    elif pointedOp == \"o\":\n",
        " \n",
        "      if inList[inPointer] != '.':\n",
        "        output = output + inList[inPointer]\n",
        "      else:\n",
        "        progPointer = len(progList)\n",
        " \n",
        "      progPointer = progPointer + 1\n",
        "    \n",
        "  \n",
        "    elif pointedOp == \"[\":\n",
        " \n",
        "      if inList[inPointer] == '.':    \n",
        "        cond = len(progList)\n",
        "        i = (progPointer + 1)\n",
        "        while i < cond:\n",
        "          if progList[i] == \"]\":\n",
        "            progPointer = i\n",
        "            cond = i\n",
        "          i = i + 1\n",
        "        \n",
        "      else:\n",
        "        progPointer = progPointer + 1      \n",
        " \n",
        "       \n",
        "    elif pointedOp == \"]\":\n",
        " \n",
        " \n",
        "      if inList[inPointer] != '.':\n",
        "        cond = -1\n",
        "        i = (progPointer - 1)\n",
        "        while i > cond:\n",
        "          if progList[i] == \"[\":\n",
        "            progPointer = i\n",
        "            cond = i\n",
        "          i = i - 1\n",
        "      else:\n",
        "        progPointer = progPointer + 1\n",
        "\n",
        " \n",
        "def checkInput(string):\n",
        "  for c in string:\n",
        "    if c not in alphabet:\n",
        "      print(\"Incorrect input\")\n",
        "      exit()\n",
        " \n",
        "def checkProgram(string):\n",
        "  for c in string:\n",
        "    if c not in operators:\n",
        "      print(\"Incorrect program\")\n",
        "      exit()\n",
        "\n",
        "\n",
        "\n",
        "\n",
        "for i in range(0, len(resultsList2Input)):\n",
        "  for j in range(0, len(resultsList2Input[i][5])):\n",
        "    resultsList2Input[i][5][j] = (resultsList2Input[i][5][j],runP3(resultsList2Input[i][5][j],resultsList2Input[i][1]))\n",
        "\n",
        "  print(resultsList2Input[i][5])"
      ],
      "execution_count": null,
      "outputs": [
        {
          "output_type": "stream",
          "text": [
            "[('00000', '0'), ('11100', '1'), ('00111', '0'), ('11010', '1'), ('0010', '0')]\n",
            "[('01011', '1'), ('0101', '1'), ('0010', '0'), ('100', '0'), ('1', '')]\n",
            "[('00010', '1'), ('110', ''), ('00111', '1'), ('11000', ''), ('101', '1')]\n",
            "[('01011', '011'), ('0101', '011'), ('0010', '011'), ('100', '1'), ('1', '1')]\n",
            "[('01011', '0'), ('110', '1'), ('0010', ''), ('101', '1'), ('1000', '')]\n",
            "[('01', '00'), ('0000', ''), ('00011', ''), ('0011', ''), ('1000', '')]\n",
            "[('01011', '1'), ('0000', '0'), ('00000', '0'), ('100', ''), ('1000', '')]\n",
            "[('10101', ''), ('11101', ''), ('00000', '1'), ('0011', '1'), ('1111', '')]\n",
            "[('10101', ''), ('0100', ''), ('00000', ''), ('01000', ''), ('1111', '')]\n"
          ],
          "name": "stdout"
        }
      ]
    }
  ]
}